{
 "cells": [
  {
   "cell_type": "code",
   "id": "initial_id",
   "metadata": {
    "collapsed": true,
    "ExecuteTime": {
     "end_time": "2025-05-05T23:58:35.697815Z",
     "start_time": "2025-05-05T23:58:35.502920Z"
    }
   },
   "source": [
    "import pandas as pd\n",
    "import matplotlib.pyplot as plt\n",
    "import seaborn as sns\n",
    "from sklearn.model_selection import train_test_split\n",
    "from sklearn.metrics import classification_report, accuracy_score, confusion_matrix\n",
    "from sklearn.preprocessing import LabelEncoder, QuantileTransformer\n",
    "import torch\n",
    "import torch.nn as nn\n",
    "import sys, os\n",
    "sys.path.append(os.path.abspath(\"../src\"))\n",
    "from torch.utils.data import TensorDataset, DataLoader\n",
    "import torch.optim as optim\n",
    "from node.lib.odst import ODST"
   ],
   "outputs": [],
   "execution_count": 6
  },
  {
   "metadata": {
    "ExecuteTime": {
     "end_time": "2025-05-05T23:59:37.527106Z",
     "start_time": "2025-05-05T23:59:37.478908Z"
    }
   },
   "cell_type": "code",
   "source": [
    "# Load datasets\n",
    "red = pd.read_csv(\"../data/wine+quality/winequality-red.csv\", sep=';')\n",
    "white = pd.read_csv(\"../data/wine+quality/winequality-white.csv\", sep=';')\n",
    "\n",
    "# Add 'type' feature\n",
    "red['type'] = 'red'\n",
    "white['type'] = 'white'\n",
    "\n",
    "# Combine datasets\n",
    "df = pd.concat([red, white], ignore_index=True)\n",
    "\n",
    "# One-hot encode 'type'\n",
    "df = pd.get_dummies(df, columns=['type'], drop_first=True)\n",
    "\n",
    "# Separate features and target\n",
    "X = df.drop('quality', axis=1)\n",
    "y = df['quality']\n",
    "\n",
    "# Encode target labels\n",
    "le = LabelEncoder()\n",
    "y_encoded = le.fit_transform(y)\n",
    "\n",
    "# Apply quantile transformation to features\n",
    "qt = QuantileTransformer(output_distribution='normal')\n",
    "X_transformed = qt.fit_transform(X)\n",
    "\n",
    "# Split into training and testing sets\n",
    "X_train, X_test, y_train, y_test = train_test_split(\n",
    "    X_transformed, y_encoded, test_size=0.2, random_state=42, stratify=y_encoded\n",
    ")"
   ],
   "id": "f1e18a21e65c8a1e",
   "outputs": [],
   "execution_count": 7
  },
  {
   "metadata": {
    "ExecuteTime": {
     "end_time": "2025-05-06T00:01:08.080416Z",
     "start_time": "2025-05-06T00:01:08.054233Z"
    }
   },
   "cell_type": "code",
   "source": [
    "input_dim = X_train.shape[1]\n",
    "num_classes = len(set(y_train))\n",
    "\n",
    "model = nn.Sequential(\n",
    "    ODST(\n",
    "        in_features=input_dim,\n",
    "        num_trees=64,\n",
    "        depth=6,\n",
    "        tree_dim=3,\n",
    "        flatten_output=True\n",
    "    ),\n",
    "    nn.Linear(64 * 3, num_classes)\n",
    ")"
   ],
   "id": "3da4d9c4681933fb",
   "outputs": [],
   "execution_count": 10
  },
  {
   "metadata": {
    "ExecuteTime": {
     "end_time": "2025-05-06T00:01:31.811904Z",
     "start_time": "2025-05-06T00:01:25.363014Z"
    }
   },
   "cell_type": "code",
   "source": [
    "train_dataset = TensorDataset(torch.tensor(X_train, dtype=torch.float32),\n",
    "                              torch.tensor(y_train, dtype=torch.long))\n",
    "train_loader = DataLoader(train_dataset, batch_size=256, shuffle=True)\n",
    "\n",
    "criterion = nn.CrossEntropyLoss()\n",
    "optimizer = optim.Adam(model.parameters(), lr=0.001)\n",
    "\n",
    "model.train()\n",
    "for epoch in range(10):\n",
    "    for batch_X, batch_y in train_loader:\n",
    "        optimizer.zero_grad()\n",
    "        outputs = model(batch_X)\n",
    "        loss = criterion(outputs, batch_y)\n",
    "        loss.backward()\n",
    "        optimizer.step()\n",
    "    print(f\"Epoch {epoch+1}, Loss: {loss.item():.4f}\")"
   ],
   "id": "2c28ff500632ce94",
   "outputs": [
    {
     "name": "stderr",
     "output_type": "stream",
     "text": [
      "/Users/ozgun/Desktop/cs454/CS454-Project/src/node/lib/odst.py:113: UserWarning: Data-aware initialization is performed on less than 1000 data points. This may cause instability.To avoid potential problems, run this model on a data batch with at least 1000 data samples.You can do so manually before training. Use with torch.no_grad() for memory efficiency.\n",
      "  warn(\"Data-aware initialization is performed on less than 1000 data points. This may cause instability.\"\n"
     ]
    },
    {
     "name": "stdout",
     "output_type": "stream",
     "text": [
      "Epoch 1, Loss: 1.5628\n",
      "Epoch 2, Loss: 1.2698\n",
      "Epoch 3, Loss: 1.4403\n",
      "Epoch 4, Loss: 1.0842\n",
      "Epoch 5, Loss: 1.0987\n",
      "Epoch 6, Loss: 1.1092\n",
      "Epoch 7, Loss: 1.2033\n",
      "Epoch 8, Loss: 1.0426\n",
      "Epoch 9, Loss: 1.0728\n",
      "Epoch 10, Loss: 1.0423\n"
     ]
    }
   ],
   "execution_count": 11
  },
  {
   "metadata": {
    "ExecuteTime": {
     "end_time": "2025-05-06T00:01:40.168151Z",
     "start_time": "2025-05-06T00:01:40.031508Z"
    }
   },
   "cell_type": "code",
   "source": [
    "# Prepare test data\n",
    "model.eval()\n",
    "with torch.no_grad():\n",
    "    X_test_tensor = torch.tensor(X_test, dtype=torch.float32)\n",
    "    y_pred_probs = model(X_test_tensor)\n",
    "    y_pred = torch.argmax(y_pred_probs, dim=1).numpy()\n",
    "\n",
    "# Calculate accuracy\n",
    "accuracy = accuracy_score(y_test, y_pred)\n",
    "print(f\"Accuracy: {accuracy:.4f}\")\n",
    "\n",
    "# Generate classification report\n",
    "print(\"Classification Report:\")\n",
    "print(classification_report(y_test, y_pred, target_names=le.classes_.astype(str)))\n",
    "\n",
    "# Plot confusion matrix\n",
    "cm = confusion_matrix(y_test, y_pred)\n",
    "plt.figure(figsize=(8, 6))\n",
    "sns.heatmap(cm, annot=True, fmt='d', cmap='Blues',\n",
    "            xticklabels=le.classes_, yticklabels=le.classes_)\n",
    "plt.xlabel(\"Predicted\")\n",
    "plt.ylabel(\"True\")\n",
    "plt.title(\"Confusion Matrix - NODE on Wine Quality\")\n",
    "plt.show()"
   ],
   "id": "61267ea78a94877e",
   "outputs": [
    {
     "name": "stdout",
     "output_type": "stream",
     "text": [
      "Accuracy: 0.5400\n",
      "Classification Report:\n",
      "              precision    recall  f1-score   support\n",
      "\n",
      "           3       0.00      0.00      0.00         6\n",
      "           4       0.00      0.00      0.00        43\n",
      "           5       0.59      0.57      0.58       428\n",
      "           6       0.52      0.69      0.60       567\n",
      "           7       0.49      0.29      0.37       216\n",
      "           8       0.00      0.00      0.00        39\n",
      "           9       0.00      0.00      0.00         1\n",
      "\n",
      "    accuracy                           0.54      1300\n",
      "   macro avg       0.23      0.22      0.22      1300\n",
      "weighted avg       0.50      0.54      0.51      1300\n",
      "\n"
     ]
    },
    {
     "name": "stderr",
     "output_type": "stream",
     "text": [
      "/opt/anaconda3/envs/sago/lib/python3.11/site-packages/sklearn/metrics/_classification.py:1565: UndefinedMetricWarning: Precision is ill-defined and being set to 0.0 in labels with no predicted samples. Use `zero_division` parameter to control this behavior.\n",
      "  _warn_prf(average, modifier, f\"{metric.capitalize()} is\", len(result))\n",
      "/opt/anaconda3/envs/sago/lib/python3.11/site-packages/sklearn/metrics/_classification.py:1565: UndefinedMetricWarning: Precision is ill-defined and being set to 0.0 in labels with no predicted samples. Use `zero_division` parameter to control this behavior.\n",
      "  _warn_prf(average, modifier, f\"{metric.capitalize()} is\", len(result))\n",
      "/opt/anaconda3/envs/sago/lib/python3.11/site-packages/sklearn/metrics/_classification.py:1565: UndefinedMetricWarning: Precision is ill-defined and being set to 0.0 in labels with no predicted samples. Use `zero_division` parameter to control this behavior.\n",
      "  _warn_prf(average, modifier, f\"{metric.capitalize()} is\", len(result))\n"
     ]
    },
    {
     "data": {
      "text/plain": [
       "<Figure size 800x600 with 2 Axes>"
      ],
      "image/png": "[encoded data removed]"
     },
     "metadata": {},
     "output_type": "display_data"
    }
   ],
   "execution_count": 12
  },
  {
   "metadata": {},
   "cell_type": "code",
   "outputs": [],
   "execution_count": null,
   "source": "",
   "id": "29519192d57b49a9"
  }
 ],
 "metadata": {
  "kernelspec": {
   "display_name": "Python 3",
   "language": "python",
   "name": "python3"
  },
  "language_info": {
   "codemirror_mode": {
    "name": "ipython",
    "version": 2
   },
   "file_extension": ".py",
   "mimetype": "text/x-python",
   "name": "python",
   "nbconvert_exporter": "python",
   "pygments_lexer": "ipython2",
   "version": "2.7.6"
  }
 },
 "nbformat": 4,
 "nbformat_minor": 5
}
