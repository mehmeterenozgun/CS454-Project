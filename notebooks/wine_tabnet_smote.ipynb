{
 "cells": [
  {
   "cell_type": "code",
   "id": "initial_id",
   "metadata": {
    "collapsed": true,
    "ExecuteTime": {
     "end_time": "2025-05-20T10:54:20.110307Z",
     "start_time": "2025-05-20T10:54:20.102796Z"
    }
   },
   "source": [
    "import pandas as pd\n",
    "import matplotlib.pyplot as plt\n",
    "import seaborn as sns\n",
    "from sklearn.model_selection import train_test_split\n",
    "from sklearn.metrics import classification_report, accuracy_score, confusion_matrix\n",
    "from sklearn.preprocessing import LabelEncoder, StandardScaler\n",
    "from pytorch_tabnet.tab_model import TabNetClassifier\n",
    "import numpy as np"
   ],
   "outputs": [],
   "execution_count": 19
  },
  {
   "metadata": {
    "ExecuteTime": {
     "end_time": "2025-05-20T10:54:20.170562Z",
     "start_time": "2025-05-20T10:54:20.121469Z"
    }
   },
   "cell_type": "code",
   "source": [
    "# Load datasets\n",
    "red = pd.read_csv(\"../data/wine+quality/winequality-red.csv\", sep=';')\n",
    "white = pd.read_csv(\"../data/wine+quality/winequality-white.csv\", sep=';')\n",
    "\n",
    "# Add 'type' feature\n",
    "red['type'] = 'red'\n",
    "white['type'] = 'white'\n",
    "\n",
    "# Combine datasets\n",
    "df = pd.concat([red, white], ignore_index=True)\n",
    "\n",
    "# One-hot encode 'type'\n",
    "df = pd.get_dummies(df, columns=['type'], drop_first=True)\n",
    "\n",
    "# Separate features and target\n",
    "X = df.drop('quality', axis=1)\n",
    "y = df['quality']"
   ],
   "id": "eaa87da57b291efe",
   "outputs": [],
   "execution_count": 20
  },
  {
   "metadata": {
    "ExecuteTime": {
     "end_time": "2025-05-20T10:54:20.317718Z",
     "start_time": "2025-05-20T10:54:20.199078Z"
    }
   },
   "cell_type": "code",
   "source": [
    "y = df['quality']\n",
    "\n",
    "# Count and ratio\n",
    "counts = y.value_counts().sort_index()\n",
    "ratios = counts / counts.sum()\n",
    "\n",
    "# Plot\n",
    "plt.figure(figsize=(8, 5))\n",
    "bars = plt.bar(counts.index, counts.values, color='skyblue', edgecolor='black')\n",
    "\n",
    "# Add percentage labels on top of each bar\n",
    "for i, bar in enumerate(bars):\n",
    "    height = bar.get_height()\n",
    "    ratio = ratios.iloc[i]\n",
    "    plt.text(\n",
    "        bar.get_x() + bar.get_width() / 2,\n",
    "        height + 30,\n",
    "        f\"{ratio:.1%}\",\n",
    "        ha='center',\n",
    "        va='bottom',\n",
    "        fontsize=12,\n",
    "        fontweight='bold',\n",
    "        color='black'  # Force pure white\n",
    "    )\n",
    "\n",
    "\n",
    "# Titles and axes\n",
    "plt.title(\"Wine Data Distribution\")\n",
    "plt.xlabel(\"Quality\")\n",
    "plt.ylabel(\"Count\")\n",
    "plt.xticks(counts.index)\n",
    "plt.grid(axis='y', linestyle='--', alpha=0.7)\n",
    "plt.tight_layout()\n",
    "plt.show()\n"
   ],
   "id": "2016fea8b49fc4e4",
   "outputs": [
    {
     "data": {
      "text/plain": [
       "<Figure size 800x500 with 1 Axes>"
      ],
      "image/png": "[encoded data removed]"
     },
     "metadata": {},
     "output_type": "display_data"
    }
   ],
   "execution_count": 21
  },
  {
   "metadata": {
    "ExecuteTime": {
     "end_time": "2025-05-20T10:54:20.386313Z",
     "start_time": "2025-05-20T10:54:20.343168Z"
    }
   },
   "cell_type": "code",
   "source": [
    "# 1. Train/test split\n",
    "X_train, X_test, y_train, y_test = train_test_split(\n",
    "    X, y, test_size=0.2, stratify=y, random_state=42\n",
    ")\n",
    "\n",
    "# 2. Scale features\n",
    "scaler = StandardScaler()\n",
    "X_train_scaled = scaler.fit_transform(X_train)\n",
    "X_test_scaled = scaler.transform(X_test)\n",
    "\n",
    "# 3. Separate rare classes (e.g., <10 samples)\n",
    "y_series = pd.Series(y_train).reset_index(drop=True)\n",
    "X_df = pd.DataFrame(X_train_scaled).reset_index(drop=True)\n",
    "\n",
    "class_counts = y_series.value_counts()\n",
    "rare_classes = class_counts[class_counts < 1000].index.tolist()\n",
    "\n",
    "# 4. Split training data: SMOTE-safe vs rare\n",
    "mask = ~y_series.isin(rare_classes)\n",
    "X_safe = X_df[mask].values\n",
    "y_safe = y_series[mask].values\n",
    "\n",
    "X_rare = X_df[~mask].values\n",
    "y_rare = y_series[~mask].values\n",
    "\n",
    "# 5. Apply SMOTE on SMOTE-safe subset only\n",
    "from imblearn.over_sampling import SMOTE\n",
    "sm = SMOTE(random_state=42)\n",
    "X_smote, y_smote = sm.fit_resample(X_safe, y_safe)\n",
    "\n",
    "# 6. Combine all: original + resampled\n",
    "X_train_final = np.vstack([X_train_scaled, X_smote])\n",
    "y_train_final = np.hstack([y_train, y_smote])\n"
   ],
   "id": "b16f37a68f943e42",
   "outputs": [
    {
     "name": "stderr",
     "output_type": "stream",
     "text": [
      "/Users/utkuayten/Library/Python/3.9/lib/python/site-packages/sklearn/base.py:474: FutureWarning: `BaseEstimator._validate_data` is deprecated in 1.6 and will be removed in 1.7. Use `sklearn.utils.validation.validate_data` instead. This function becomes public and is part of the scikit-learn developer API.\n",
      "  warnings.warn(\n"
     ]
    }
   ],
   "execution_count": 22
  },
  {
   "metadata": {
    "ExecuteTime": {
     "end_time": "2025-05-20T10:54:27.911704Z",
     "start_time": "2025-05-20T10:54:20.414876Z"
    }
   },
   "cell_type": "code",
   "source": [
    "clf = TabNetClassifier()\n",
    "\n",
    "clf.fit(\n",
    "    X_train=X_train_final, y_train=y_train_final,\n",
    "    eval_set=[(X_test_scaled, y_test)],  # ✅ No filtering needed\n",
    "    eval_name=['test'],\n",
    "    eval_metric=['accuracy'],\n",
    "    max_epochs=100,\n",
    "    patience=10,\n",
    "    virtual_batch_size=256,\n",
    "    num_workers=0,\n",
    "    drop_last=False\n",
    ")\n"
   ],
   "id": "29598fffb189039f",
   "outputs": [
    {
     "name": "stderr",
     "output_type": "stream",
     "text": [
      "/Users/utkuayten/Library/Python/3.9/lib/python/site-packages/pytorch_tabnet/abstract_model.py:82: UserWarning: Device used : cpu\n",
      "  warnings.warn(f\"Device used : {self.device}\")\n"
     ]
    },
    {
     "name": "stdout",
     "output_type": "stream",
     "text": [
      "epoch 0  | loss: 1.66347 | test_accuracy: 0.45385 |  0:00:00s\n",
      "epoch 1  | loss: 1.14739 | test_accuracy: 0.50231 |  0:00:00s\n",
      "epoch 2  | loss: 1.04624 | test_accuracy: 0.51923 |  0:00:00s\n",
      "epoch 3  | loss: 1.00194 | test_accuracy: 0.51308 |  0:00:01s\n",
      "epoch 4  | loss: 0.97392 | test_accuracy: 0.51077 |  0:00:01s\n",
      "epoch 5  | loss: 0.95446 | test_accuracy: 0.52154 |  0:00:01s\n",
      "epoch 6  | loss: 0.93767 | test_accuracy: 0.51231 |  0:00:01s\n",
      "epoch 7  | loss: 0.93484 | test_accuracy: 0.53077 |  0:00:02s\n",
      "epoch 8  | loss: 0.92411 | test_accuracy: 0.54154 |  0:00:02s\n",
      "epoch 9  | loss: 0.91943 | test_accuracy: 0.53385 |  0:00:02s\n",
      "epoch 10 | loss: 0.91601 | test_accuracy: 0.53    |  0:00:02s\n",
      "epoch 11 | loss: 0.9096  | test_accuracy: 0.52769 |  0:00:03s\n",
      "epoch 12 | loss: 0.90299 | test_accuracy: 0.53    |  0:00:03s\n",
      "epoch 13 | loss: 0.90351 | test_accuracy: 0.53385 |  0:00:03s\n",
      "epoch 14 | loss: 0.89515 | test_accuracy: 0.53846 |  0:00:03s\n",
      "epoch 15 | loss: 0.89009 | test_accuracy: 0.53846 |  0:00:04s\n",
      "epoch 16 | loss: 0.88294 | test_accuracy: 0.54538 |  0:00:04s\n",
      "epoch 17 | loss: 0.88894 | test_accuracy: 0.53462 |  0:00:04s\n",
      "epoch 18 | loss: 0.88813 | test_accuracy: 0.55385 |  0:00:04s\n",
      "epoch 19 | loss: 0.88802 | test_accuracy: 0.53385 |  0:00:05s\n",
      "epoch 20 | loss: 0.8862  | test_accuracy: 0.53923 |  0:00:05s\n",
      "epoch 21 | loss: 0.88939 | test_accuracy: 0.54    |  0:00:05s\n",
      "epoch 22 | loss: 0.88873 | test_accuracy: 0.54077 |  0:00:05s\n",
      "epoch 23 | loss: 0.88097 | test_accuracy: 0.55077 |  0:00:06s\n",
      "epoch 24 | loss: 0.87796 | test_accuracy: 0.53538 |  0:00:06s\n",
      "epoch 25 | loss: 0.87484 | test_accuracy: 0.54769 |  0:00:06s\n",
      "epoch 26 | loss: 0.87367 | test_accuracy: 0.54077 |  0:00:06s\n",
      "epoch 27 | loss: 0.86642 | test_accuracy: 0.54    |  0:00:07s\n",
      "epoch 28 | loss: 0.87068 | test_accuracy: 0.54308 |  0:00:07s\n",
      "\n",
      "Early stopping occurred at epoch 28 with best_epoch = 18 and best_test_accuracy = 0.55385\n"
     ]
    },
    {
     "name": "stderr",
     "output_type": "stream",
     "text": [
      "/Users/utkuayten/Library/Python/3.9/lib/python/site-packages/pytorch_tabnet/callbacks.py:172: UserWarning: Best weights from best epoch are automatically used!\n",
      "  warnings.warn(wrn_msg)\n"
     ]
    }
   ],
   "execution_count": 23
  },
  {
   "metadata": {
    "ExecuteTime": {
     "end_time": "2025-05-20T10:54:28.031122Z",
     "start_time": "2025-05-20T10:54:27.938731Z"
    }
   },
   "cell_type": "code",
   "source": [
    "# Feature importance\n",
    "feature_importances = clf.feature_importances_\n",
    "\n",
    "# Plot\n",
    "plt.figure(figsize=(10,5))\n",
    "sns.barplot(x=X.columns, y=feature_importances)\n",
    "plt.xticks(rotation=45)\n",
    "plt.title('Feature Importances')\n",
    "plt.show()"
   ],
   "id": "5514af26cfd6113a",
   "outputs": [
    {
     "data": {
      "text/plain": [
       "<Figure size 1000x500 with 1 Axes>"
      ],
      "image/png": "[encoded data removed]"
     },
     "metadata": {},
     "output_type": "display_data"
    }
   ],
   "execution_count": 24
  },
  {
   "metadata": {
    "ExecuteTime": {
     "end_time": "2025-05-20T10:54:28.093634Z",
     "start_time": "2025-05-20T10:54:28.085898Z"
    }
   },
   "cell_type": "code",
   "source": [
    "import pandas as pd\n",
    "\n",
    "# Convert to DataFrame for easy filtering (if needed)\n",
    "df_full = pd.DataFrame(X)  # or your full data\n",
    "df_full['target'] = y      # add target column\n",
    "\n",
    "# Keep only rows where target is 5, 6, or 7\n",
    "df_filtered = df_full[df_full['target'].isin([5, 6, 7])]\n",
    "\n",
    "# Split back into X and y\n",
    "X_filtered = df_filtered.drop(columns='target').values\n",
    "y_filtered = df_filtered['target'].values\n"
   ],
   "id": "983da90598166bf",
   "outputs": [],
   "execution_count": 25
  },
  {
   "metadata": {
    "ExecuteTime": {
     "end_time": "2025-05-20T10:54:28.111703Z",
     "start_time": "2025-05-20T10:54:28.099620Z"
    }
   },
   "cell_type": "code",
   "source": [
    "from sklearn.model_selection import train_test_split\n",
    "from sklearn.preprocessing import StandardScaler\n",
    "\n",
    "X_train, X_test, y_train, y_test = train_test_split(\n",
    "    X_filtered, y_filtered, test_size=0.2, stratify=y_filtered, random_state=42\n",
    ")\n",
    "\n",
    "# Scale features\n",
    "scaler = StandardScaler()\n",
    "X_train_scaled = scaler.fit_transform(X_train)\n",
    "X_test_scaled = scaler.transform(X_test)\n"
   ],
   "id": "824cb46d29f79788",
   "outputs": [],
   "execution_count": 26
  },
  {
   "metadata": {
    "ExecuteTime": {
     "end_time": "2025-05-20T10:54:35.859565Z",
     "start_time": "2025-05-20T10:54:28.139039Z"
    }
   },
   "cell_type": "code",
   "source": [
    "from pytorch_tabnet.tab_model import TabNetClassifier\n",
    "from sklearn.metrics import accuracy_score, classification_report\n",
    "\n",
    "clf = TabNetClassifier(\n",
    ")\n",
    "\n",
    "clf.fit(\n",
    "    X_train=X_train_scaled, y_train=y_train,\n",
    "    eval_set=[(X_test_scaled, y_test)],\n",
    "    eval_name=['test'],\n",
    "    eval_metric=['accuracy'],\n",
    "    virtual_batch_size=128,\n",
    "    max_epochs=100,\n",
    "    patience=10,\n",
    "    batch_size=512,\n",
    "    num_workers=0,\n",
    "    drop_last=False,\n",
    ")\n"
   ],
   "id": "4b227594005bfb35",
   "outputs": [
    {
     "name": "stdout",
     "output_type": "stream",
     "text": [
      "epoch 0  | loss: 1.61125 | test_accuracy: 0.44013 |  0:00:00s\n"
     ]
    },
    {
     "name": "stderr",
     "output_type": "stream",
     "text": [
      "/Users/utkuayten/Library/Python/3.9/lib/python/site-packages/pytorch_tabnet/abstract_model.py:82: UserWarning: Device used : cpu\n",
      "  warnings.warn(f\"Device used : {self.device}\")\n"
     ]
    },
    {
     "name": "stdout",
     "output_type": "stream",
     "text": [
      "epoch 1  | loss: 1.07656 | test_accuracy: 0.45169 |  0:00:00s\n",
      "epoch 2  | loss: 1.04399 | test_accuracy: 0.46986 |  0:00:00s\n",
      "epoch 3  | loss: 1.00557 | test_accuracy: 0.48637 |  0:00:00s\n",
      "epoch 4  | loss: 0.95546 | test_accuracy: 0.50537 |  0:00:00s\n",
      "epoch 5  | loss: 0.9185  | test_accuracy: 0.50702 |  0:00:01s\n",
      "epoch 6  | loss: 0.8979  | test_accuracy: 0.53014 |  0:00:01s\n",
      "epoch 7  | loss: 0.89564 | test_accuracy: 0.53014 |  0:00:01s\n",
      "epoch 8  | loss: 0.87997 | test_accuracy: 0.52931 |  0:00:01s\n",
      "epoch 9  | loss: 0.87315 | test_accuracy: 0.54996 |  0:00:01s\n",
      "epoch 10 | loss: 0.86498 | test_accuracy: 0.54748 |  0:00:01s\n",
      "epoch 11 | loss: 0.85979 | test_accuracy: 0.545   |  0:00:02s\n",
      "epoch 12 | loss: 0.85528 | test_accuracy: 0.55822 |  0:00:02s\n",
      "epoch 13 | loss: 0.85488 | test_accuracy: 0.54831 |  0:00:02s\n",
      "epoch 14 | loss: 0.85426 | test_accuracy: 0.55078 |  0:00:02s\n",
      "epoch 15 | loss: 0.8389  | test_accuracy: 0.564   |  0:00:02s\n",
      "epoch 16 | loss: 0.83169 | test_accuracy: 0.55904 |  0:00:02s\n",
      "epoch 17 | loss: 0.82643 | test_accuracy: 0.56317 |  0:00:03s\n",
      "epoch 18 | loss: 0.82437 | test_accuracy: 0.57473 |  0:00:03s\n",
      "epoch 19 | loss: 0.82101 | test_accuracy: 0.57308 |  0:00:03s\n",
      "epoch 20 | loss: 0.82262 | test_accuracy: 0.58051 |  0:00:03s\n",
      "epoch 21 | loss: 0.81368 | test_accuracy: 0.57886 |  0:00:03s\n",
      "epoch 22 | loss: 0.80704 | test_accuracy: 0.57886 |  0:00:03s\n",
      "epoch 23 | loss: 0.80898 | test_accuracy: 0.58051 |  0:00:04s\n",
      "epoch 24 | loss: 0.80423 | test_accuracy: 0.58382 |  0:00:04s\n",
      "epoch 25 | loss: 0.80003 | test_accuracy: 0.56565 |  0:00:04s\n",
      "epoch 26 | loss: 0.79332 | test_accuracy: 0.57556 |  0:00:04s\n",
      "epoch 27 | loss: 0.78999 | test_accuracy: 0.57803 |  0:00:04s\n",
      "epoch 28 | loss: 0.79181 | test_accuracy: 0.57556 |  0:00:04s\n",
      "epoch 29 | loss: 0.79655 | test_accuracy: 0.57391 |  0:00:05s\n",
      "epoch 30 | loss: 0.79406 | test_accuracy: 0.56069 |  0:00:05s\n",
      "epoch 31 | loss: 0.79733 | test_accuracy: 0.57721 |  0:00:05s\n",
      "epoch 32 | loss: 0.80506 | test_accuracy: 0.55244 |  0:00:05s\n",
      "epoch 33 | loss: 0.78865 | test_accuracy: 0.58712 |  0:00:05s\n",
      "epoch 34 | loss: 0.78934 | test_accuracy: 0.57721 |  0:00:05s\n",
      "epoch 35 | loss: 0.78901 | test_accuracy: 0.59785 |  0:00:06s\n",
      "epoch 36 | loss: 0.78896 | test_accuracy: 0.57391 |  0:00:06s\n",
      "epoch 37 | loss: 0.79348 | test_accuracy: 0.5929  |  0:00:06s\n",
      "epoch 38 | loss: 0.78207 | test_accuracy: 0.55904 |  0:00:06s\n",
      "epoch 39 | loss: 0.77723 | test_accuracy: 0.58464 |  0:00:06s\n",
      "epoch 40 | loss: 0.78524 | test_accuracy: 0.57886 |  0:00:06s\n",
      "epoch 41 | loss: 0.77175 | test_accuracy: 0.57803 |  0:00:06s\n",
      "epoch 42 | loss: 0.77768 | test_accuracy: 0.57143 |  0:00:07s\n",
      "epoch 43 | loss: 0.77762 | test_accuracy: 0.58547 |  0:00:07s\n",
      "epoch 44 | loss: 0.78604 | test_accuracy: 0.58051 |  0:00:07s\n",
      "epoch 45 | loss: 0.77965 | test_accuracy: 0.58382 |  0:00:07s\n",
      "\n",
      "Early stopping occurred at epoch 45 with best_epoch = 35 and best_test_accuracy = 0.59785\n"
     ]
    },
    {
     "name": "stderr",
     "output_type": "stream",
     "text": [
      "/Users/utkuayten/Library/Python/3.9/lib/python/site-packages/pytorch_tabnet/callbacks.py:172: UserWarning: Best weights from best epoch are automatically used!\n",
      "  warnings.warn(wrn_msg)\n"
     ]
    }
   ],
   "execution_count": 27
  },
  {
   "metadata": {
    "ExecuteTime": {
     "end_time": "2025-05-20T10:54:35.912230Z",
     "start_time": "2025-05-20T10:54:35.885606Z"
    }
   },
   "cell_type": "code",
   "source": [
    "from imblearn.over_sampling import SMOTE\n",
    "\n",
    "# Apply SMOTE\n",
    "smote = SMOTE(random_state=42, k_neighbors=3)\n",
    "X_train_resampled, y_train_resampled = smote.fit_resample(X_train_scaled, y_train)\n",
    "\n",
    "# Optional: show new class distribution\n",
    "from collections import Counter\n",
    "print(\"Resampled class distribution:\", Counter(y_train_resampled))\n"
   ],
   "id": "7ed936abaf040686",
   "outputs": [
    {
     "name": "stdout",
     "output_type": "stream",
     "text": [
      "Resampled class distribution: Counter({np.int64(5): 2269, np.int64(6): 2269, np.int64(7): 2269})\n"
     ]
    },
    {
     "name": "stderr",
     "output_type": "stream",
     "text": [
      "/Users/utkuayten/Library/Python/3.9/lib/python/site-packages/sklearn/base.py:474: FutureWarning: `BaseEstimator._validate_data` is deprecated in 1.6 and will be removed in 1.7. Use `sklearn.utils.validation.validate_data` instead. This function becomes public and is part of the scikit-learn developer API.\n",
      "  warnings.warn(\n"
     ]
    }
   ],
   "execution_count": 28
  },
  {
   "metadata": {
    "ExecuteTime": {
     "end_time": "2025-05-20T10:54:53.512751Z",
     "start_time": "2025-05-20T10:54:35.936584Z"
    }
   },
   "cell_type": "code",
   "source": [
    "from pytorch_tabnet.tab_model import TabNetClassifier\n",
    "from sklearn.metrics import accuracy_score, classification_report\n",
    "\n",
    "# Initialize model\n",
    "clf = TabNetClassifier(\n",
    ")\n",
    "\n",
    "# Train\n",
    "clf.fit(\n",
    "    X_train=X_train_resampled, y_train=y_train_resampled,\n",
    "    eval_set=[(X_test_scaled, y_test)],\n",
    "    eval_name=['test'],\n",
    "    eval_metric=['accuracy'],\n",
    "    max_epochs=100,\n",
    "    patience=10,\n",
    "    batch_size=512,\n",
    "    num_workers=0,\n",
    "    drop_last=False,\n",
    ")\n"
   ],
   "id": "bec05c4a59d10fbf",
   "outputs": [
    {
     "name": "stderr",
     "output_type": "stream",
     "text": [
      "/Users/utkuayten/Library/Python/3.9/lib/python/site-packages/pytorch_tabnet/abstract_model.py:82: UserWarning: Device used : cpu\n",
      "  warnings.warn(f\"Device used : {self.device}\")\n"
     ]
    },
    {
     "name": "stdout",
     "output_type": "stream",
     "text": [
      "epoch 0  | loss: 1.40118 | test_accuracy: 0.40628 |  0:00:00s\n",
      "epoch 1  | loss: 1.04188 | test_accuracy: 0.44839 |  0:00:00s\n",
      "epoch 2  | loss: 0.98372 | test_accuracy: 0.46656 |  0:00:00s\n",
      "epoch 3  | loss: 0.93385 | test_accuracy: 0.46243 |  0:00:00s\n",
      "epoch 4  | loss: 0.89066 | test_accuracy: 0.48059 |  0:00:01s\n",
      "epoch 5  | loss: 0.88033 | test_accuracy: 0.48555 |  0:00:01s\n",
      "epoch 6  | loss: 0.85977 | test_accuracy: 0.47812 |  0:00:01s\n",
      "epoch 7  | loss: 0.85159 | test_accuracy: 0.48555 |  0:00:01s\n",
      "epoch 8  | loss: 0.84183 | test_accuracy: 0.48059 |  0:00:02s\n",
      "epoch 9  | loss: 0.82967 | test_accuracy: 0.52023 |  0:00:02s\n",
      "epoch 10 | loss: 0.8258  | test_accuracy: 0.50784 |  0:00:02s\n",
      "epoch 11 | loss: 0.82887 | test_accuracy: 0.49876 |  0:00:02s\n",
      "epoch 12 | loss: 0.81721 | test_accuracy: 0.4905  |  0:00:02s\n",
      "epoch 13 | loss: 0.81463 | test_accuracy: 0.5161  |  0:00:03s\n",
      "epoch 14 | loss: 0.80345 | test_accuracy: 0.51693 |  0:00:03s\n",
      "epoch 15 | loss: 0.80302 | test_accuracy: 0.51528 |  0:00:03s\n",
      "epoch 16 | loss: 0.79502 | test_accuracy: 0.5161  |  0:00:03s\n",
      "epoch 17 | loss: 0.78878 | test_accuracy: 0.53757 |  0:00:04s\n",
      "epoch 18 | loss: 0.79224 | test_accuracy: 0.52849 |  0:00:04s\n",
      "epoch 19 | loss: 0.78602 | test_accuracy: 0.52601 |  0:00:04s\n",
      "epoch 20 | loss: 0.7864  | test_accuracy: 0.52684 |  0:00:04s\n",
      "epoch 21 | loss: 0.78292 | test_accuracy: 0.51693 |  0:00:05s\n",
      "epoch 22 | loss: 0.78092 | test_accuracy: 0.52601 |  0:00:05s\n",
      "epoch 23 | loss: 0.78747 | test_accuracy: 0.52601 |  0:00:05s\n",
      "epoch 24 | loss: 0.77424 | test_accuracy: 0.50454 |  0:00:06s\n",
      "epoch 25 | loss: 0.78428 | test_accuracy: 0.52601 |  0:00:06s\n",
      "epoch 26 | loss: 0.77726 | test_accuracy: 0.55161 |  0:00:06s\n",
      "epoch 27 | loss: 0.77195 | test_accuracy: 0.54583 |  0:00:06s\n",
      "epoch 28 | loss: 0.77627 | test_accuracy: 0.545   |  0:00:07s\n",
      "epoch 29 | loss: 0.76758 | test_accuracy: 0.51775 |  0:00:07s\n",
      "epoch 30 | loss: 0.75695 | test_accuracy: 0.52601 |  0:00:07s\n",
      "epoch 31 | loss: 0.75697 | test_accuracy: 0.50867 |  0:00:07s\n",
      "epoch 32 | loss: 0.75653 | test_accuracy: 0.54253 |  0:00:08s\n",
      "epoch 33 | loss: 0.75045 | test_accuracy: 0.55409 |  0:00:08s\n",
      "epoch 34 | loss: 0.74865 | test_accuracy: 0.51693 |  0:00:08s\n",
      "epoch 35 | loss: 0.75333 | test_accuracy: 0.53675 |  0:00:08s\n",
      "epoch 36 | loss: 0.76134 | test_accuracy: 0.53427 |  0:00:09s\n",
      "epoch 37 | loss: 0.7576  | test_accuracy: 0.55326 |  0:00:09s\n",
      "epoch 38 | loss: 0.75887 | test_accuracy: 0.55822 |  0:00:09s\n",
      "epoch 39 | loss: 0.7552  | test_accuracy: 0.53592 |  0:00:10s\n",
      "epoch 40 | loss: 0.7495  | test_accuracy: 0.55326 |  0:00:10s\n",
      "epoch 41 | loss: 0.74965 | test_accuracy: 0.55078 |  0:00:10s\n",
      "epoch 42 | loss: 0.75746 | test_accuracy: 0.51363 |  0:00:10s\n",
      "epoch 43 | loss: 0.76083 | test_accuracy: 0.52766 |  0:00:11s\n",
      "epoch 44 | loss: 0.75326 | test_accuracy: 0.54666 |  0:00:11s\n",
      "epoch 45 | loss: 0.74325 | test_accuracy: 0.54418 |  0:00:11s\n",
      "epoch 46 | loss: 0.73681 | test_accuracy: 0.56482 |  0:00:11s\n",
      "epoch 47 | loss: 0.73623 | test_accuracy: 0.56152 |  0:00:12s\n",
      "epoch 48 | loss: 0.7337  | test_accuracy: 0.55161 |  0:00:12s\n",
      "epoch 49 | loss: 0.73441 | test_accuracy: 0.54088 |  0:00:12s\n",
      "epoch 50 | loss: 0.72672 | test_accuracy: 0.56647 |  0:00:12s\n",
      "epoch 51 | loss: 0.73444 | test_accuracy: 0.52849 |  0:00:13s\n",
      "epoch 52 | loss: 0.73836 | test_accuracy: 0.545   |  0:00:13s\n",
      "epoch 53 | loss: 0.73701 | test_accuracy: 0.53509 |  0:00:13s\n",
      "epoch 54 | loss: 0.7251  | test_accuracy: 0.54583 |  0:00:13s\n",
      "epoch 55 | loss: 0.71783 | test_accuracy: 0.54088 |  0:00:14s\n",
      "epoch 56 | loss: 0.71906 | test_accuracy: 0.54583 |  0:00:14s\n",
      "epoch 57 | loss: 0.71804 | test_accuracy: 0.545   |  0:00:14s\n",
      "epoch 58 | loss: 0.72931 | test_accuracy: 0.51528 |  0:00:14s\n",
      "epoch 59 | loss: 0.72247 | test_accuracy: 0.57143 |  0:00:15s\n",
      "epoch 60 | loss: 0.71806 | test_accuracy: 0.56069 |  0:00:15s\n",
      "epoch 61 | loss: 0.719   | test_accuracy: 0.54418 |  0:00:15s\n",
      "epoch 62 | loss: 0.71664 | test_accuracy: 0.54831 |  0:00:15s\n",
      "epoch 63 | loss: 0.7081  | test_accuracy: 0.5417  |  0:00:16s\n",
      "epoch 64 | loss: 0.71746 | test_accuracy: 0.55904 |  0:00:16s\n",
      "epoch 65 | loss: 0.712   | test_accuracy: 0.56565 |  0:00:16s\n",
      "epoch 66 | loss: 0.70485 | test_accuracy: 0.55574 |  0:00:16s\n",
      "epoch 67 | loss: 0.72034 | test_accuracy: 0.53344 |  0:00:17s\n",
      "epoch 68 | loss: 0.71759 | test_accuracy: 0.54831 |  0:00:17s\n",
      "epoch 69 | loss: 0.70956 | test_accuracy: 0.55491 |  0:00:17s\n",
      "\n",
      "Early stopping occurred at epoch 69 with best_epoch = 59 and best_test_accuracy = 0.57143\n"
     ]
    },
    {
     "name": "stderr",
     "output_type": "stream",
     "text": [
      "/Users/utkuayten/Library/Python/3.9/lib/python/site-packages/pytorch_tabnet/callbacks.py:172: UserWarning: Best weights from best epoch are automatically used!\n",
      "  warnings.warn(wrn_msg)\n"
     ]
    }
   ],
   "execution_count": 29
  },
  {
   "metadata": {
    "ExecuteTime": {
     "end_time": "2025-05-20T10:54:53.552509Z",
     "start_time": "2025-05-20T10:54:53.546988Z"
    }
   },
   "cell_type": "code",
   "source": [
    "from sklearn.base import BaseEstimator, ClassifierMixin\n",
    "from pytorch_tabnet.tab_model import TabNetClassifier\n",
    "from sklearn.metrics import balanced_accuracy_score\n",
    "\n",
    "class TabNetSklearnWrapper(BaseEstimator, ClassifierMixin):\n",
    "    def __init__(self, n_d=8, n_a=8, n_steps=3, gamma=1.0, lambda_sparse=1e-4, lr=2e-2):\n",
    "        self.n_d = n_d\n",
    "        self.n_a = n_a\n",
    "        self.n_steps = n_steps\n",
    "        self.gamma = gamma\n",
    "        self.lambda_sparse = lambda_sparse\n",
    "        self.lr = lr\n",
    "        self.model_ = None\n",
    "\n",
    "    def fit(self, X, y):\n",
    "        self.model_ = TabNetClassifier(\n",
    "            n_d=self.n_d,\n",
    "            n_a=self.n_a,\n",
    "            n_steps=self.n_steps,\n",
    "            gamma=self.gamma,\n",
    "            lambda_sparse=self.lambda_sparse,\n",
    "            optimizer_params=dict(lr=self.lr),\n",
    "            seed=42,\n",
    "            verbose=0\n",
    "        )\n",
    "        self.model_.fit(\n",
    "            X_train=X, y_train=y,\n",
    "            eval_set=[(X, y)],\n",
    "            eval_name=['train'],\n",
    "            eval_metric=['accuracy'],\n",
    "            max_epochs=100,\n",
    "            patience=10,\n",
    "            batch_size=512,\n",
    "            virtual_batch_size=256,\n",
    "            num_workers=0,\n",
    "            drop_last=False\n",
    "        )\n",
    "        return self\n",
    "\n",
    "    def predict(self, X):\n",
    "        return self.model_.predict(X)\n",
    "\n",
    "    def score(self, X, y):\n",
    "        return balanced_accuracy_score(y, self.predict(X))\n"
   ],
   "id": "990f35fd5b702017",
   "outputs": [],
   "execution_count": 30
  },
  {
   "metadata": {
    "ExecuteTime": {
     "end_time": "2025-05-20T11:14:01.098872Z",
     "start_time": "2025-05-20T10:54:53.578175Z"
    }
   },
   "cell_type": "code",
   "source": [
    "from sklearn.model_selection import GridSearchCV\n",
    "\n",
    "param_grid = {\n",
    "    'n_d': [8, 16],\n",
    "    'n_a': [8, 16],\n",
    "    'n_steps': [3, 5],\n",
    "    'gamma': [1.0, 1.5],\n",
    "    'lambda_sparse': [1e-4, 1e-3],\n",
    "}\n",
    "\n",
    "grid = GridSearchCV(\n",
    "    estimator=TabNetSklearnWrapper(),\n",
    "    param_grid=param_grid,\n",
    "    scoring='accuracy',\n",
    "    cv=3,\n",
    "    verbose=2,\n",
    "    n_jobs=1  # TabNet uses GPU/CPU internally, use 1 to avoid overload\n",
    ")\n",
    "\n",
    "grid.fit(X_train_resampled, y_train_resampled)\n"
   ],
   "id": "95c512e409f66d98",
   "outputs": [
    {
     "name": "stdout",
     "output_type": "stream",
     "text": [
      "Fitting 3 folds for each of 32 candidates, totalling 96 fits\n",
      "\n",
      "Early stopping occurred at epoch 82 with best_epoch = 72 and best_train_accuracy = 0.76443\n",
      "[CV] END gamma=1.0, lambda_sparse=0.0001, n_a=8, n_d=8, n_steps=3; total time=  12.6s\n"
     ]
    },
    {
     "name": "stderr",
     "output_type": "stream",
     "text": [
      "/Users/utkuayten/Library/Python/3.9/lib/python/site-packages/pytorch_tabnet/callbacks.py:172: UserWarning: Best weights from best epoch are automatically used!\n",
      "  warnings.warn(wrn_msg)\n"
     ]
    },
    {
     "name": "stdout",
     "output_type": "stream",
     "text": [
      "\n",
      "Early stopping occurred at epoch 44 with best_epoch = 34 and best_train_accuracy = 0.70626\n",
      "[CV] END gamma=1.0, lambda_sparse=0.0001, n_a=8, n_d=8, n_steps=3; total time=   7.4s\n"
     ]
    },
    {
     "name": "stderr",
     "output_type": "stream",
     "text": [
      "/Users/utkuayten/Library/Python/3.9/lib/python/site-packages/pytorch_tabnet/callbacks.py:172: UserWarning: Best weights from best epoch are automatically used!\n",
      "  warnings.warn(wrn_msg)\n"
     ]
    },
    {
     "name": "stdout",
     "output_type": "stream",
     "text": [
      "\n",
      "Early stopping occurred at epoch 57 with best_epoch = 47 and best_train_accuracy = 0.64963\n",
      "[CV] END gamma=1.0, lambda_sparse=0.0001, n_a=8, n_d=8, n_steps=3; total time=   8.6s\n"
     ]
    },
    {
     "name": "stderr",
     "output_type": "stream",
     "text": [
      "/Users/utkuayten/Library/Python/3.9/lib/python/site-packages/pytorch_tabnet/callbacks.py:172: UserWarning: Best weights from best epoch are automatically used!\n",
      "  warnings.warn(wrn_msg)\n"
     ]
    },
    {
     "name": "stdout",
     "output_type": "stream",
     "text": [
      "\n",
      "Early stopping occurred at epoch 37 with best_epoch = 27 and best_train_accuracy = 0.70273\n",
      "[CV] END gamma=1.0, lambda_sparse=0.0001, n_a=8, n_d=8, n_steps=5; total time=   8.8s\n"
     ]
    },
    {
     "name": "stderr",
     "output_type": "stream",
     "text": [
      "/Users/utkuayten/Library/Python/3.9/lib/python/site-packages/pytorch_tabnet/callbacks.py:172: UserWarning: Best weights from best epoch are automatically used!\n",
      "  warnings.warn(wrn_msg)\n"
     ]
    },
    {
     "name": "stdout",
     "output_type": "stream",
     "text": [
      "\n",
      "Early stopping occurred at epoch 66 with best_epoch = 56 and best_train_accuracy = 0.71485\n",
      "[CV] END gamma=1.0, lambda_sparse=0.0001, n_a=8, n_d=8, n_steps=5; total time=  14.7s\n"
     ]
    },
    {
     "name": "stderr",
     "output_type": "stream",
     "text": [
      "/Users/utkuayten/Library/Python/3.9/lib/python/site-packages/pytorch_tabnet/callbacks.py:172: UserWarning: Best weights from best epoch are automatically used!\n",
      "  warnings.warn(wrn_msg)\n"
     ]
    },
    {
     "name": "stdout",
     "output_type": "stream",
     "text": [
      "\n",
      "Early stopping occurred at epoch 36 with best_epoch = 26 and best_train_accuracy = 0.63222\n",
      "[CV] END gamma=1.0, lambda_sparse=0.0001, n_a=8, n_d=8, n_steps=5; total time=   8.3s\n"
     ]
    },
    {
     "name": "stderr",
     "output_type": "stream",
     "text": [
      "/Users/utkuayten/Library/Python/3.9/lib/python/site-packages/pytorch_tabnet/callbacks.py:172: UserWarning: Best weights from best epoch are automatically used!\n",
      "  warnings.warn(wrn_msg)\n"
     ]
    },
    {
     "name": "stdout",
     "output_type": "stream",
     "text": [
      "\n",
      "Early stopping occurred at epoch 35 with best_epoch = 25 and best_train_accuracy = 0.73843\n",
      "[CV] END gamma=1.0, lambda_sparse=0.0001, n_a=8, n_d=16, n_steps=3; total time=   6.4s\n"
     ]
    },
    {
     "name": "stderr",
     "output_type": "stream",
     "text": [
      "/Users/utkuayten/Library/Python/3.9/lib/python/site-packages/pytorch_tabnet/callbacks.py:172: UserWarning: Best weights from best epoch are automatically used!\n",
      "  warnings.warn(wrn_msg)\n"
     ]
    },
    {
     "name": "stdout",
     "output_type": "stream",
     "text": [
      "\n",
      "Early stopping occurred at epoch 67 with best_epoch = 57 and best_train_accuracy = 0.75408\n",
      "[CV] END gamma=1.0, lambda_sparse=0.0001, n_a=8, n_d=16, n_steps=3; total time=  12.3s\n"
     ]
    },
    {
     "name": "stderr",
     "output_type": "stream",
     "text": [
      "/Users/utkuayten/Library/Python/3.9/lib/python/site-packages/pytorch_tabnet/callbacks.py:172: UserWarning: Best weights from best epoch are automatically used!\n",
      "  warnings.warn(wrn_msg)\n"
     ]
    },
    {
     "name": "stdout",
     "output_type": "stream",
     "text": [
      "\n",
      "Early stopping occurred at epoch 56 with best_epoch = 46 and best_train_accuracy = 0.68312\n",
      "[CV] END gamma=1.0, lambda_sparse=0.0001, n_a=8, n_d=16, n_steps=3; total time=  10.6s\n"
     ]
    },
    {
     "name": "stderr",
     "output_type": "stream",
     "text": [
      "/Users/utkuayten/Library/Python/3.9/lib/python/site-packages/pytorch_tabnet/callbacks.py:172: UserWarning: Best weights from best epoch are automatically used!\n",
      "  warnings.warn(wrn_msg)\n"
     ]
    },
    {
     "name": "stdout",
     "output_type": "stream",
     "text": [
      "\n",
      "Early stopping occurred at epoch 41 with best_epoch = 31 and best_train_accuracy = 0.7338\n",
      "[CV] END gamma=1.0, lambda_sparse=0.0001, n_a=8, n_d=16, n_steps=5; total time=  12.0s\n"
     ]
    },
    {
     "name": "stderr",
     "output_type": "stream",
     "text": [
      "/Users/utkuayten/Library/Python/3.9/lib/python/site-packages/pytorch_tabnet/callbacks.py:172: UserWarning: Best weights from best epoch are automatically used!\n",
      "  warnings.warn(wrn_msg)\n"
     ]
    },
    {
     "name": "stdout",
     "output_type": "stream",
     "text": [
      "\n",
      "Early stopping occurred at epoch 82 with best_epoch = 72 and best_train_accuracy = 0.75606\n",
      "[CV] END gamma=1.0, lambda_sparse=0.0001, n_a=8, n_d=16, n_steps=5; total time=  27.0s\n"
     ]
    },
    {
     "name": "stderr",
     "output_type": "stream",
     "text": [
      "/Users/utkuayten/Library/Python/3.9/lib/python/site-packages/pytorch_tabnet/callbacks.py:172: UserWarning: Best weights from best epoch are automatically used!\n",
      "  warnings.warn(wrn_msg)\n"
     ]
    },
    {
     "name": "stdout",
     "output_type": "stream",
     "text": [
      "\n",
      "Early stopping occurred at epoch 37 with best_epoch = 27 and best_train_accuracy = 0.62847\n"
     ]
    },
    {
     "name": "stderr",
     "output_type": "stream",
     "text": [
      "/Users/utkuayten/Library/Python/3.9/lib/python/site-packages/pytorch_tabnet/callbacks.py:172: UserWarning: Best weights from best epoch are automatically used!\n",
      "  warnings.warn(wrn_msg)\n"
     ]
    },
    {
     "name": "stdout",
     "output_type": "stream",
     "text": [
      "[CV] END gamma=1.0, lambda_sparse=0.0001, n_a=8, n_d=16, n_steps=5; total time=  14.0s\n",
      "\n",
      "Early stopping occurred at epoch 58 with best_epoch = 48 and best_train_accuracy = 0.77523\n",
      "[CV] END gamma=1.0, lambda_sparse=0.0001, n_a=16, n_d=8, n_steps=3; total time=  15.6s\n"
     ]
    },
    {
     "name": "stderr",
     "output_type": "stream",
     "text": [
      "/Users/utkuayten/Library/Python/3.9/lib/python/site-packages/pytorch_tabnet/callbacks.py:172: UserWarning: Best weights from best epoch are automatically used!\n",
      "  warnings.warn(wrn_msg)\n"
     ]
    },
    {
     "name": "stdout",
     "output_type": "stream",
     "text": [
      "\n",
      "Early stopping occurred at epoch 57 with best_epoch = 47 and best_train_accuracy = 0.74945\n",
      "[CV] END gamma=1.0, lambda_sparse=0.0001, n_a=16, n_d=8, n_steps=3; total time=  12.3s\n"
     ]
    },
    {
     "name": "stderr",
     "output_type": "stream",
     "text": [
      "/Users/utkuayten/Library/Python/3.9/lib/python/site-packages/pytorch_tabnet/callbacks.py:172: UserWarning: Best weights from best epoch are automatically used!\n",
      "  warnings.warn(wrn_msg)\n"
     ]
    },
    {
     "name": "stdout",
     "output_type": "stream",
     "text": [
      "\n",
      "Early stopping occurred at epoch 93 with best_epoch = 83 and best_train_accuracy = 0.7089\n",
      "[CV] END gamma=1.0, lambda_sparse=0.0001, n_a=16, n_d=8, n_steps=3; total time=  18.8s\n"
     ]
    },
    {
     "name": "stderr",
     "output_type": "stream",
     "text": [
      "/Users/utkuayten/Library/Python/3.9/lib/python/site-packages/pytorch_tabnet/callbacks.py:172: UserWarning: Best weights from best epoch are automatically used!\n",
      "  warnings.warn(wrn_msg)\n"
     ]
    },
    {
     "name": "stdout",
     "output_type": "stream",
     "text": [
      "\n",
      "Early stopping occurred at epoch 75 with best_epoch = 65 and best_train_accuracy = 0.77589\n",
      "[CV] END gamma=1.0, lambda_sparse=0.0001, n_a=16, n_d=8, n_steps=5; total time=  22.5s\n"
     ]
    },
    {
     "name": "stderr",
     "output_type": "stream",
     "text": [
      "/Users/utkuayten/Library/Python/3.9/lib/python/site-packages/pytorch_tabnet/callbacks.py:172: UserWarning: Best weights from best epoch are automatically used!\n",
      "  warnings.warn(wrn_msg)\n"
     ]
    },
    {
     "name": "stdout",
     "output_type": "stream",
     "text": [
      "\n",
      "Early stopping occurred at epoch 21 with best_epoch = 11 and best_train_accuracy = 0.67364\n",
      "[CV] END gamma=1.0, lambda_sparse=0.0001, n_a=16, n_d=8, n_steps=5; total time=   7.4s\n"
     ]
    },
    {
     "name": "stderr",
     "output_type": "stream",
     "text": [
      "/Users/utkuayten/Library/Python/3.9/lib/python/site-packages/pytorch_tabnet/callbacks.py:172: UserWarning: Best weights from best epoch are automatically used!\n",
      "  warnings.warn(wrn_msg)\n"
     ]
    },
    {
     "name": "stdout",
     "output_type": "stream",
     "text": [
      "\n",
      "Early stopping occurred at epoch 29 with best_epoch = 19 and best_train_accuracy = 0.61723\n",
      "[CV] END gamma=1.0, lambda_sparse=0.0001, n_a=16, n_d=8, n_steps=5; total time=  11.4s\n"
     ]
    },
    {
     "name": "stderr",
     "output_type": "stream",
     "text": [
      "/Users/utkuayten/Library/Python/3.9/lib/python/site-packages/pytorch_tabnet/callbacks.py:172: UserWarning: Best weights from best epoch are automatically used!\n",
      "  warnings.warn(wrn_msg)\n"
     ]
    },
    {
     "name": "stdout",
     "output_type": "stream",
     "text": [
      "Stop training because you reached max_epochs = 100 with best_epoch = 94 and best_train_accuracy = 0.83164\n",
      "[CV] END gamma=1.0, lambda_sparse=0.0001, n_a=16, n_d=16, n_steps=3; total time=  23.2s\n"
     ]
    },
    {
     "name": "stderr",
     "output_type": "stream",
     "text": [
      "/Users/utkuayten/Library/Python/3.9/lib/python/site-packages/pytorch_tabnet/callbacks.py:172: UserWarning: Best weights from best epoch are automatically used!\n",
      "  warnings.warn(wrn_msg)\n"
     ]
    },
    {
     "name": "stdout",
     "output_type": "stream",
     "text": [
      "\n",
      "Early stopping occurred at epoch 88 with best_epoch = 78 and best_train_accuracy = 0.77788\n",
      "[CV] END gamma=1.0, lambda_sparse=0.0001, n_a=16, n_d=16, n_steps=3; total time=  20.6s\n"
     ]
    },
    {
     "name": "stderr",
     "output_type": "stream",
     "text": [
      "/Users/utkuayten/Library/Python/3.9/lib/python/site-packages/pytorch_tabnet/callbacks.py:172: UserWarning: Best weights from best epoch are automatically used!\n",
      "  warnings.warn(wrn_msg)\n"
     ]
    },
    {
     "name": "stdout",
     "output_type": "stream",
     "text": [
      "\n",
      "Early stopping occurred at epoch 55 with best_epoch = 45 and best_train_accuracy = 0.6721\n",
      "[CV] END gamma=1.0, lambda_sparse=0.0001, n_a=16, n_d=16, n_steps=3; total time=  12.3s\n"
     ]
    },
    {
     "name": "stderr",
     "output_type": "stream",
     "text": [
      "/Users/utkuayten/Library/Python/3.9/lib/python/site-packages/pytorch_tabnet/callbacks.py:172: UserWarning: Best weights from best epoch are automatically used!\n",
      "  warnings.warn(wrn_msg)\n"
     ]
    },
    {
     "name": "stdout",
     "output_type": "stream",
     "text": [
      "\n",
      "Early stopping occurred at epoch 63 with best_epoch = 53 and best_train_accuracy = 0.75716\n",
      "[CV] END gamma=1.0, lambda_sparse=0.0001, n_a=16, n_d=16, n_steps=5; total time=  21.7s\n"
     ]
    },
    {
     "name": "stderr",
     "output_type": "stream",
     "text": [
      "/Users/utkuayten/Library/Python/3.9/lib/python/site-packages/pytorch_tabnet/callbacks.py:172: UserWarning: Best weights from best epoch are automatically used!\n",
      "  warnings.warn(wrn_msg)\n"
     ]
    },
    {
     "name": "stdout",
     "output_type": "stream",
     "text": [
      "\n",
      "Early stopping occurred at epoch 45 with best_epoch = 35 and best_train_accuracy = 0.71816\n",
      "[CV] END gamma=1.0, lambda_sparse=0.0001, n_a=16, n_d=16, n_steps=5; total time=  15.6s\n"
     ]
    },
    {
     "name": "stderr",
     "output_type": "stream",
     "text": [
      "/Users/utkuayten/Library/Python/3.9/lib/python/site-packages/pytorch_tabnet/callbacks.py:172: UserWarning: Best weights from best epoch are automatically used!\n",
      "  warnings.warn(wrn_msg)\n"
     ]
    },
    {
     "name": "stdout",
     "output_type": "stream",
     "text": [
      "\n",
      "Early stopping occurred at epoch 31 with best_epoch = 21 and best_train_accuracy = 0.64235\n",
      "[CV] END gamma=1.0, lambda_sparse=0.0001, n_a=16, n_d=16, n_steps=5; total time=  11.1s\n"
     ]
    },
    {
     "name": "stderr",
     "output_type": "stream",
     "text": [
      "/Users/utkuayten/Library/Python/3.9/lib/python/site-packages/pytorch_tabnet/callbacks.py:172: UserWarning: Best weights from best epoch are automatically used!\n",
      "  warnings.warn(wrn_msg)\n"
     ]
    },
    {
     "name": "stdout",
     "output_type": "stream",
     "text": [
      "Stop training because you reached max_epochs = 100 with best_epoch = 95 and best_train_accuracy = 0.78052\n",
      "[CV] END gamma=1.0, lambda_sparse=0.001, n_a=8, n_d=8, n_steps=3; total time=  17.2s\n"
     ]
    },
    {
     "name": "stderr",
     "output_type": "stream",
     "text": [
      "/Users/utkuayten/Library/Python/3.9/lib/python/site-packages/pytorch_tabnet/callbacks.py:172: UserWarning: Best weights from best epoch are automatically used!\n",
      "  warnings.warn(wrn_msg)\n"
     ]
    },
    {
     "name": "stdout",
     "output_type": "stream",
     "text": [
      "\n",
      "Early stopping occurred at epoch 60 with best_epoch = 50 and best_train_accuracy = 0.73535\n",
      "[CV] END gamma=1.0, lambda_sparse=0.001, n_a=8, n_d=8, n_steps=3; total time=  11.0s\n"
     ]
    },
    {
     "name": "stderr",
     "output_type": "stream",
     "text": [
      "/Users/utkuayten/Library/Python/3.9/lib/python/site-packages/pytorch_tabnet/callbacks.py:172: UserWarning: Best weights from best epoch are automatically used!\n",
      "  warnings.warn(wrn_msg)\n"
     ]
    },
    {
     "name": "stdout",
     "output_type": "stream",
     "text": [
      "\n",
      "Early stopping occurred at epoch 91 with best_epoch = 81 and best_train_accuracy = 0.6851\n",
      "[CV] END gamma=1.0, lambda_sparse=0.001, n_a=8, n_d=8, n_steps=3; total time=  16.5s\n"
     ]
    },
    {
     "name": "stderr",
     "output_type": "stream",
     "text": [
      "/Users/utkuayten/Library/Python/3.9/lib/python/site-packages/pytorch_tabnet/callbacks.py:172: UserWarning: Best weights from best epoch are automatically used!\n",
      "  warnings.warn(wrn_msg)\n"
     ]
    },
    {
     "name": "stdout",
     "output_type": "stream",
     "text": [
      "\n",
      "Early stopping occurred at epoch 39 with best_epoch = 29 and best_train_accuracy = 0.69546\n",
      "[CV] END gamma=1.0, lambda_sparse=0.001, n_a=8, n_d=8, n_steps=5; total time=  10.2s\n"
     ]
    },
    {
     "name": "stderr",
     "output_type": "stream",
     "text": [
      "/Users/utkuayten/Library/Python/3.9/lib/python/site-packages/pytorch_tabnet/callbacks.py:172: UserWarning: Best weights from best epoch are automatically used!\n",
      "  warnings.warn(wrn_msg)\n"
     ]
    },
    {
     "name": "stdout",
     "output_type": "stream",
     "text": [
      "\n",
      "Early stopping occurred at epoch 52 with best_epoch = 42 and best_train_accuracy = 0.72234\n",
      "[CV] END gamma=1.0, lambda_sparse=0.001, n_a=8, n_d=8, n_steps=5; total time=  13.5s\n"
     ]
    },
    {
     "name": "stderr",
     "output_type": "stream",
     "text": [
      "/Users/utkuayten/Library/Python/3.9/lib/python/site-packages/pytorch_tabnet/callbacks.py:172: UserWarning: Best weights from best epoch are automatically used!\n",
      "  warnings.warn(wrn_msg)\n"
     ]
    },
    {
     "name": "stdout",
     "output_type": "stream",
     "text": [
      "\n",
      "Early stopping occurred at epoch 65 with best_epoch = 55 and best_train_accuracy = 0.66086\n",
      "[CV] END gamma=1.0, lambda_sparse=0.001, n_a=8, n_d=8, n_steps=5; total time=  17.0s\n"
     ]
    },
    {
     "name": "stderr",
     "output_type": "stream",
     "text": [
      "/Users/utkuayten/Library/Python/3.9/lib/python/site-packages/pytorch_tabnet/callbacks.py:172: UserWarning: Best weights from best epoch are automatically used!\n",
      "  warnings.warn(wrn_msg)\n"
     ]
    },
    {
     "name": "stdout",
     "output_type": "stream",
     "text": [
      "\n",
      "Early stopping occurred at epoch 48 with best_epoch = 38 and best_train_accuracy = 0.74901\n",
      "[CV] END gamma=1.0, lambda_sparse=0.001, n_a=8, n_d=16, n_steps=3; total time=   9.5s\n"
     ]
    },
    {
     "name": "stderr",
     "output_type": "stream",
     "text": [
      "/Users/utkuayten/Library/Python/3.9/lib/python/site-packages/pytorch_tabnet/callbacks.py:172: UserWarning: Best weights from best epoch are automatically used!\n",
      "  warnings.warn(wrn_msg)\n"
     ]
    },
    {
     "name": "stdout",
     "output_type": "stream",
     "text": [
      "\n",
      "Early stopping occurred at epoch 40 with best_epoch = 30 and best_train_accuracy = 0.72962\n",
      "[CV] END gamma=1.0, lambda_sparse=0.001, n_a=8, n_d=16, n_steps=3; total time=   7.4s\n"
     ]
    },
    {
     "name": "stderr",
     "output_type": "stream",
     "text": [
      "/Users/utkuayten/Library/Python/3.9/lib/python/site-packages/pytorch_tabnet/callbacks.py:172: UserWarning: Best weights from best epoch are automatically used!\n",
      "  warnings.warn(wrn_msg)\n"
     ]
    },
    {
     "name": "stdout",
     "output_type": "stream",
     "text": [
      "\n",
      "Early stopping occurred at epoch 66 with best_epoch = 56 and best_train_accuracy = 0.6829\n",
      "[CV] END gamma=1.0, lambda_sparse=0.001, n_a=8, n_d=16, n_steps=3; total time=  11.7s\n"
     ]
    },
    {
     "name": "stderr",
     "output_type": "stream",
     "text": [
      "/Users/utkuayten/Library/Python/3.9/lib/python/site-packages/pytorch_tabnet/callbacks.py:172: UserWarning: Best weights from best epoch are automatically used!\n",
      "  warnings.warn(wrn_msg)\n"
     ]
    },
    {
     "name": "stdout",
     "output_type": "stream",
     "text": [
      "\n",
      "Early stopping occurred at epoch 39 with best_epoch = 29 and best_train_accuracy = 0.72168\n",
      "[CV] END gamma=1.0, lambda_sparse=0.001, n_a=8, n_d=16, n_steps=5; total time=  10.2s\n"
     ]
    },
    {
     "name": "stderr",
     "output_type": "stream",
     "text": [
      "/Users/utkuayten/Library/Python/3.9/lib/python/site-packages/pytorch_tabnet/callbacks.py:172: UserWarning: Best weights from best epoch are automatically used!\n",
      "  warnings.warn(wrn_msg)\n"
     ]
    },
    {
     "name": "stdout",
     "output_type": "stream",
     "text": [
      "\n",
      "Early stopping occurred at epoch 42 with best_epoch = 32 and best_train_accuracy = 0.73138\n",
      "[CV] END gamma=1.0, lambda_sparse=0.001, n_a=8, n_d=16, n_steps=5; total time=  10.8s\n"
     ]
    },
    {
     "name": "stderr",
     "output_type": "stream",
     "text": [
      "/Users/utkuayten/Library/Python/3.9/lib/python/site-packages/pytorch_tabnet/callbacks.py:172: UserWarning: Best weights from best epoch are automatically used!\n",
      "  warnings.warn(wrn_msg)\n"
     ]
    },
    {
     "name": "stdout",
     "output_type": "stream",
     "text": [
      "\n",
      "Early stopping occurred at epoch 45 with best_epoch = 35 and best_train_accuracy = 0.64522\n",
      "[CV] END gamma=1.0, lambda_sparse=0.001, n_a=8, n_d=16, n_steps=5; total time=  11.6s\n"
     ]
    },
    {
     "name": "stderr",
     "output_type": "stream",
     "text": [
      "/Users/utkuayten/Library/Python/3.9/lib/python/site-packages/pytorch_tabnet/callbacks.py:172: UserWarning: Best weights from best epoch are automatically used!\n",
      "  warnings.warn(wrn_msg)\n"
     ]
    },
    {
     "name": "stdout",
     "output_type": "stream",
     "text": [
      "\n",
      "Early stopping occurred at epoch 37 with best_epoch = 27 and best_train_accuracy = 0.74791\n",
      "[CV] END gamma=1.0, lambda_sparse=0.001, n_a=16, n_d=8, n_steps=3; total time=   6.4s\n"
     ]
    },
    {
     "name": "stderr",
     "output_type": "stream",
     "text": [
      "/Users/utkuayten/Library/Python/3.9/lib/python/site-packages/pytorch_tabnet/callbacks.py:172: UserWarning: Best weights from best epoch are automatically used!\n",
      "  warnings.warn(wrn_msg)\n"
     ]
    },
    {
     "name": "stdout",
     "output_type": "stream",
     "text": [
      "\n",
      "Early stopping occurred at epoch 41 with best_epoch = 31 and best_train_accuracy = 0.72565\n",
      "[CV] END gamma=1.0, lambda_sparse=0.001, n_a=16, n_d=8, n_steps=3; total time=   7.0s\n"
     ]
    },
    {
     "name": "stderr",
     "output_type": "stream",
     "text": [
      "/Users/utkuayten/Library/Python/3.9/lib/python/site-packages/pytorch_tabnet/callbacks.py:172: UserWarning: Best weights from best epoch are automatically used!\n",
      "  warnings.warn(wrn_msg)\n"
     ]
    },
    {
     "name": "stdout",
     "output_type": "stream",
     "text": [
      "Stop training because you reached max_epochs = 100 with best_epoch = 92 and best_train_accuracy = 0.70824\n",
      "[CV] END gamma=1.0, lambda_sparse=0.001, n_a=16, n_d=8, n_steps=3; total time=  16.4s\n"
     ]
    },
    {
     "name": "stderr",
     "output_type": "stream",
     "text": [
      "/Users/utkuayten/Library/Python/3.9/lib/python/site-packages/pytorch_tabnet/callbacks.py:172: UserWarning: Best weights from best epoch are automatically used!\n",
      "  warnings.warn(wrn_msg)\n"
     ]
    },
    {
     "name": "stdout",
     "output_type": "stream",
     "text": [
      "\n",
      "Early stopping occurred at epoch 42 with best_epoch = 32 and best_train_accuracy = 0.72389\n",
      "[CV] END gamma=1.0, lambda_sparse=0.001, n_a=16, n_d=8, n_steps=5; total time=  10.8s\n"
     ]
    },
    {
     "name": "stderr",
     "output_type": "stream",
     "text": [
      "/Users/utkuayten/Library/Python/3.9/lib/python/site-packages/pytorch_tabnet/callbacks.py:172: UserWarning: Best weights from best epoch are automatically used!\n",
      "  warnings.warn(wrn_msg)\n"
     ]
    },
    {
     "name": "stdout",
     "output_type": "stream",
     "text": [
      "\n",
      "Early stopping occurred at epoch 58 with best_epoch = 48 and best_train_accuracy = 0.71441\n",
      "[CV] END gamma=1.0, lambda_sparse=0.001, n_a=16, n_d=8, n_steps=5; total time=  14.8s\n"
     ]
    },
    {
     "name": "stderr",
     "output_type": "stream",
     "text": [
      "/Users/utkuayten/Library/Python/3.9/lib/python/site-packages/pytorch_tabnet/callbacks.py:172: UserWarning: Best weights from best epoch are automatically used!\n",
      "  warnings.warn(wrn_msg)\n"
     ]
    },
    {
     "name": "stdout",
     "output_type": "stream",
     "text": [
      "\n",
      "Early stopping occurred at epoch 32 with best_epoch = 22 and best_train_accuracy = 0.64301\n",
      "[CV] END gamma=1.0, lambda_sparse=0.001, n_a=16, n_d=8, n_steps=5; total time=   8.4s\n"
     ]
    },
    {
     "name": "stderr",
     "output_type": "stream",
     "text": [
      "/Users/utkuayten/Library/Python/3.9/lib/python/site-packages/pytorch_tabnet/callbacks.py:172: UserWarning: Best weights from best epoch are automatically used!\n",
      "  warnings.warn(wrn_msg)\n"
     ]
    },
    {
     "name": "stdout",
     "output_type": "stream",
     "text": [
      "\n",
      "Early stopping occurred at epoch 64 with best_epoch = 54 and best_train_accuracy = 0.76421\n",
      "[CV] END gamma=1.0, lambda_sparse=0.001, n_a=16, n_d=16, n_steps=3; total time=  11.2s\n"
     ]
    },
    {
     "name": "stderr",
     "output_type": "stream",
     "text": [
      "/Users/utkuayten/Library/Python/3.9/lib/python/site-packages/pytorch_tabnet/callbacks.py:172: UserWarning: Best weights from best epoch are automatically used!\n",
      "  warnings.warn(wrn_msg)\n"
     ]
    },
    {
     "name": "stdout",
     "output_type": "stream",
     "text": [
      "\n",
      "Early stopping occurred at epoch 33 with best_epoch = 23 and best_train_accuracy = 0.71375\n",
      "[CV] END gamma=1.0, lambda_sparse=0.001, n_a=16, n_d=16, n_steps=3; total time=   6.1s\n"
     ]
    },
    {
     "name": "stderr",
     "output_type": "stream",
     "text": [
      "/Users/utkuayten/Library/Python/3.9/lib/python/site-packages/pytorch_tabnet/callbacks.py:172: UserWarning: Best weights from best epoch are automatically used!\n",
      "  warnings.warn(wrn_msg)\n"
     ]
    },
    {
     "name": "stdout",
     "output_type": "stream",
     "text": [
      "\n",
      "Early stopping occurred at epoch 77 with best_epoch = 67 and best_train_accuracy = 0.6937\n",
      "[CV] END gamma=1.0, lambda_sparse=0.001, n_a=16, n_d=16, n_steps=3; total time=  13.8s\n"
     ]
    },
    {
     "name": "stderr",
     "output_type": "stream",
     "text": [
      "/Users/utkuayten/Library/Python/3.9/lib/python/site-packages/pytorch_tabnet/callbacks.py:172: UserWarning: Best weights from best epoch are automatically used!\n",
      "  warnings.warn(wrn_msg)\n"
     ]
    },
    {
     "name": "stdout",
     "output_type": "stream",
     "text": [
      "\n",
      "Early stopping occurred at epoch 52 with best_epoch = 42 and best_train_accuracy = 0.73402\n",
      "[CV] END gamma=1.0, lambda_sparse=0.001, n_a=16, n_d=16, n_steps=5; total time=  14.4s\n"
     ]
    },
    {
     "name": "stderr",
     "output_type": "stream",
     "text": [
      "/Users/utkuayten/Library/Python/3.9/lib/python/site-packages/pytorch_tabnet/callbacks.py:172: UserWarning: Best weights from best epoch are automatically used!\n",
      "  warnings.warn(wrn_msg)\n"
     ]
    },
    {
     "name": "stdout",
     "output_type": "stream",
     "text": [
      "\n",
      "Early stopping occurred at epoch 39 with best_epoch = 29 and best_train_accuracy = 0.70097\n",
      "[CV] END gamma=1.0, lambda_sparse=0.001, n_a=16, n_d=16, n_steps=5; total time=  11.0s\n"
     ]
    },
    {
     "name": "stderr",
     "output_type": "stream",
     "text": [
      "/Users/utkuayten/Library/Python/3.9/lib/python/site-packages/pytorch_tabnet/callbacks.py:172: UserWarning: Best weights from best epoch are automatically used!\n",
      "  warnings.warn(wrn_msg)\n"
     ]
    },
    {
     "name": "stdout",
     "output_type": "stream",
     "text": [
      "\n",
      "Early stopping occurred at epoch 36 with best_epoch = 26 and best_train_accuracy = 0.65051\n",
      "[CV] END gamma=1.0, lambda_sparse=0.001, n_a=16, n_d=16, n_steps=5; total time=  10.1s\n"
     ]
    },
    {
     "name": "stderr",
     "output_type": "stream",
     "text": [
      "/Users/utkuayten/Library/Python/3.9/lib/python/site-packages/pytorch_tabnet/callbacks.py:172: UserWarning: Best weights from best epoch are automatically used!\n",
      "  warnings.warn(wrn_msg)\n"
     ]
    },
    {
     "name": "stdout",
     "output_type": "stream",
     "text": [
      "\n",
      "Early stopping occurred at epoch 71 with best_epoch = 61 and best_train_accuracy = 0.72345\n",
      "[CV] END gamma=1.5, lambda_sparse=0.0001, n_a=8, n_d=8, n_steps=3; total time=  10.7s\n"
     ]
    },
    {
     "name": "stderr",
     "output_type": "stream",
     "text": [
      "/Users/utkuayten/Library/Python/3.9/lib/python/site-packages/pytorch_tabnet/callbacks.py:172: UserWarning: Best weights from best epoch are automatically used!\n",
      "  warnings.warn(wrn_msg)\n"
     ]
    },
    {
     "name": "stdout",
     "output_type": "stream",
     "text": [
      "\n",
      "Early stopping occurred at epoch 45 with best_epoch = 35 and best_train_accuracy = 0.69458\n",
      "[CV] END gamma=1.5, lambda_sparse=0.0001, n_a=8, n_d=8, n_steps=3; total time=   6.9s\n"
     ]
    },
    {
     "name": "stderr",
     "output_type": "stream",
     "text": [
      "/Users/utkuayten/Library/Python/3.9/lib/python/site-packages/pytorch_tabnet/callbacks.py:172: UserWarning: Best weights from best epoch are automatically used!\n",
      "  warnings.warn(wrn_msg)\n"
     ]
    },
    {
     "name": "stdout",
     "output_type": "stream",
     "text": [
      "\n",
      "Early stopping occurred at epoch 93 with best_epoch = 83 and best_train_accuracy = 0.658\n",
      "[CV] END gamma=1.5, lambda_sparse=0.0001, n_a=8, n_d=8, n_steps=3; total time=  13.9s\n"
     ]
    },
    {
     "name": "stderr",
     "output_type": "stream",
     "text": [
      "/Users/utkuayten/Library/Python/3.9/lib/python/site-packages/pytorch_tabnet/callbacks.py:172: UserWarning: Best weights from best epoch are automatically used!\n",
      "  warnings.warn(wrn_msg)\n"
     ]
    },
    {
     "name": "stdout",
     "output_type": "stream",
     "text": [
      "\n",
      "Early stopping occurred at epoch 29 with best_epoch = 19 and best_train_accuracy = 0.65844\n",
      "[CV] END gamma=1.5, lambda_sparse=0.0001, n_a=8, n_d=8, n_steps=5; total time=   6.6s\n"
     ]
    },
    {
     "name": "stderr",
     "output_type": "stream",
     "text": [
      "/Users/utkuayten/Library/Python/3.9/lib/python/site-packages/pytorch_tabnet/callbacks.py:172: UserWarning: Best weights from best epoch are automatically used!\n",
      "  warnings.warn(wrn_msg)\n"
     ]
    },
    {
     "name": "stdout",
     "output_type": "stream",
     "text": [
      "\n",
      "Early stopping occurred at epoch 34 with best_epoch = 24 and best_train_accuracy = 0.63618\n",
      "[CV] END gamma=1.5, lambda_sparse=0.0001, n_a=8, n_d=8, n_steps=5; total time=   7.6s\n"
     ]
    },
    {
     "name": "stderr",
     "output_type": "stream",
     "text": [
      "/Users/utkuayten/Library/Python/3.9/lib/python/site-packages/pytorch_tabnet/callbacks.py:172: UserWarning: Best weights from best epoch are automatically used!\n",
      "  warnings.warn(wrn_msg)\n"
     ]
    },
    {
     "name": "stdout",
     "output_type": "stream",
     "text": [
      "\n",
      "Early stopping occurred at epoch 35 with best_epoch = 25 and best_train_accuracy = 0.6093\n",
      "[CV] END gamma=1.5, lambda_sparse=0.0001, n_a=8, n_d=8, n_steps=5; total time=   7.9s\n"
     ]
    },
    {
     "name": "stderr",
     "output_type": "stream",
     "text": [
      "/Users/utkuayten/Library/Python/3.9/lib/python/site-packages/pytorch_tabnet/callbacks.py:172: UserWarning: Best weights from best epoch are automatically used!\n",
      "  warnings.warn(wrn_msg)\n"
     ]
    },
    {
     "name": "stdout",
     "output_type": "stream",
     "text": [
      "\n",
      "Early stopping occurred at epoch 72 with best_epoch = 62 and best_train_accuracy = 0.7413\n",
      "[CV] END gamma=1.5, lambda_sparse=0.0001, n_a=8, n_d=16, n_steps=3; total time=  12.1s\n"
     ]
    },
    {
     "name": "stderr",
     "output_type": "stream",
     "text": [
      "/Users/utkuayten/Library/Python/3.9/lib/python/site-packages/pytorch_tabnet/callbacks.py:172: UserWarning: Best weights from best epoch are automatically used!\n",
      "  warnings.warn(wrn_msg)\n"
     ]
    },
    {
     "name": "stdout",
     "output_type": "stream",
     "text": [
      "\n",
      "Early stopping occurred at epoch 59 with best_epoch = 49 and best_train_accuracy = 0.72543\n",
      "[CV] END gamma=1.5, lambda_sparse=0.0001, n_a=8, n_d=16, n_steps=3; total time=  10.0s\n"
     ]
    },
    {
     "name": "stderr",
     "output_type": "stream",
     "text": [
      "/Users/utkuayten/Library/Python/3.9/lib/python/site-packages/pytorch_tabnet/callbacks.py:172: UserWarning: Best weights from best epoch are automatically used!\n",
      "  warnings.warn(wrn_msg)\n"
     ]
    },
    {
     "name": "stdout",
     "output_type": "stream",
     "text": [
      "\n",
      "Early stopping occurred at epoch 50 with best_epoch = 40 and best_train_accuracy = 0.65403\n",
      "[CV] END gamma=1.5, lambda_sparse=0.0001, n_a=8, n_d=16, n_steps=3; total time=   8.4s\n"
     ]
    },
    {
     "name": "stderr",
     "output_type": "stream",
     "text": [
      "/Users/utkuayten/Library/Python/3.9/lib/python/site-packages/pytorch_tabnet/callbacks.py:172: UserWarning: Best weights from best epoch are automatically used!\n",
      "  warnings.warn(wrn_msg)\n"
     ]
    },
    {
     "name": "stdout",
     "output_type": "stream",
     "text": [
      "\n",
      "Early stopping occurred at epoch 42 with best_epoch = 32 and best_train_accuracy = 0.67541\n",
      "[CV] END gamma=1.5, lambda_sparse=0.0001, n_a=8, n_d=16, n_steps=5; total time=  10.8s\n"
     ]
    },
    {
     "name": "stderr",
     "output_type": "stream",
     "text": [
      "/Users/utkuayten/Library/Python/3.9/lib/python/site-packages/pytorch_tabnet/callbacks.py:172: UserWarning: Best weights from best epoch are automatically used!\n",
      "  warnings.warn(wrn_msg)\n"
     ]
    },
    {
     "name": "stdout",
     "output_type": "stream",
     "text": [
      "\n",
      "Early stopping occurred at epoch 47 with best_epoch = 37 and best_train_accuracy = 0.67166\n",
      "[CV] END gamma=1.5, lambda_sparse=0.0001, n_a=8, n_d=16, n_steps=5; total time=  12.3s\n"
     ]
    },
    {
     "name": "stderr",
     "output_type": "stream",
     "text": [
      "/Users/utkuayten/Library/Python/3.9/lib/python/site-packages/pytorch_tabnet/callbacks.py:172: UserWarning: Best weights from best epoch are automatically used!\n",
      "  warnings.warn(wrn_msg)\n"
     ]
    },
    {
     "name": "stdout",
     "output_type": "stream",
     "text": [
      "\n",
      "Early stopping occurred at epoch 44 with best_epoch = 34 and best_train_accuracy = 0.61657\n",
      "[CV] END gamma=1.5, lambda_sparse=0.0001, n_a=8, n_d=16, n_steps=5; total time=  11.3s\n"
     ]
    },
    {
     "name": "stderr",
     "output_type": "stream",
     "text": [
      "/Users/utkuayten/Library/Python/3.9/lib/python/site-packages/pytorch_tabnet/callbacks.py:172: UserWarning: Best weights from best epoch are automatically used!\n",
      "  warnings.warn(wrn_msg)\n"
     ]
    },
    {
     "name": "stdout",
     "output_type": "stream",
     "text": [
      "\n",
      "Early stopping occurred at epoch 47 with best_epoch = 37 and best_train_accuracy = 0.71639\n",
      "[CV] END gamma=1.5, lambda_sparse=0.0001, n_a=16, n_d=8, n_steps=3; total time=   7.9s\n"
     ]
    },
    {
     "name": "stderr",
     "output_type": "stream",
     "text": [
      "/Users/utkuayten/Library/Python/3.9/lib/python/site-packages/pytorch_tabnet/callbacks.py:172: UserWarning: Best weights from best epoch are automatically used!\n",
      "  warnings.warn(wrn_msg)\n"
     ]
    },
    {
     "name": "stdout",
     "output_type": "stream",
     "text": [
      "\n",
      "Early stopping occurred at epoch 43 with best_epoch = 33 and best_train_accuracy = 0.70714\n",
      "[CV] END gamma=1.5, lambda_sparse=0.0001, n_a=16, n_d=8, n_steps=3; total time=   7.4s\n"
     ]
    },
    {
     "name": "stderr",
     "output_type": "stream",
     "text": [
      "/Users/utkuayten/Library/Python/3.9/lib/python/site-packages/pytorch_tabnet/callbacks.py:172: UserWarning: Best weights from best epoch are automatically used!\n",
      "  warnings.warn(wrn_msg)\n"
     ]
    },
    {
     "name": "stdout",
     "output_type": "stream",
     "text": [
      "Stop training because you reached max_epochs = 100 with best_epoch = 90 and best_train_accuracy = 0.69282\n",
      "[CV] END gamma=1.5, lambda_sparse=0.0001, n_a=16, n_d=8, n_steps=3; total time=  16.3s\n"
     ]
    },
    {
     "name": "stderr",
     "output_type": "stream",
     "text": [
      "/Users/utkuayten/Library/Python/3.9/lib/python/site-packages/pytorch_tabnet/callbacks.py:172: UserWarning: Best weights from best epoch are automatically used!\n",
      "  warnings.warn(wrn_msg)\n"
     ]
    },
    {
     "name": "stdout",
     "output_type": "stream",
     "text": [
      "\n",
      "Early stopping occurred at epoch 47 with best_epoch = 37 and best_train_accuracy = 0.68665\n",
      "[CV] END gamma=1.5, lambda_sparse=0.0001, n_a=16, n_d=8, n_steps=5; total time=  12.1s\n"
     ]
    },
    {
     "name": "stderr",
     "output_type": "stream",
     "text": [
      "/Users/utkuayten/Library/Python/3.9/lib/python/site-packages/pytorch_tabnet/callbacks.py:172: UserWarning: Best weights from best epoch are automatically used!\n",
      "  warnings.warn(wrn_msg)\n"
     ]
    },
    {
     "name": "stdout",
     "output_type": "stream",
     "text": [
      "\n",
      "Early stopping occurred at epoch 33 with best_epoch = 23 and best_train_accuracy = 0.64279\n",
      "[CV] END gamma=1.5, lambda_sparse=0.0001, n_a=16, n_d=8, n_steps=5; total time=   8.3s\n"
     ]
    },
    {
     "name": "stderr",
     "output_type": "stream",
     "text": [
      "/Users/utkuayten/Library/Python/3.9/lib/python/site-packages/pytorch_tabnet/callbacks.py:172: UserWarning: Best weights from best epoch are automatically used!\n",
      "  warnings.warn(wrn_msg)\n"
     ]
    },
    {
     "name": "stdout",
     "output_type": "stream",
     "text": [
      "\n",
      "Early stopping occurred at epoch 30 with best_epoch = 20 and best_train_accuracy = 0.60004\n",
      "[CV] END gamma=1.5, lambda_sparse=0.0001, n_a=16, n_d=8, n_steps=5; total time=   7.7s\n"
     ]
    },
    {
     "name": "stderr",
     "output_type": "stream",
     "text": [
      "/Users/utkuayten/Library/Python/3.9/lib/python/site-packages/pytorch_tabnet/callbacks.py:172: UserWarning: Best weights from best epoch are automatically used!\n",
      "  warnings.warn(wrn_msg)\n"
     ]
    },
    {
     "name": "stdout",
     "output_type": "stream",
     "text": [
      "Stop training because you reached max_epochs = 100 with best_epoch = 98 and best_train_accuracy = 0.79793\n",
      "[CV] END gamma=1.5, lambda_sparse=0.0001, n_a=16, n_d=16, n_steps=3; total time=  18.0s\n"
     ]
    },
    {
     "name": "stderr",
     "output_type": "stream",
     "text": [
      "/Users/utkuayten/Library/Python/3.9/lib/python/site-packages/pytorch_tabnet/callbacks.py:172: UserWarning: Best weights from best epoch are automatically used!\n",
      "  warnings.warn(wrn_msg)\n"
     ]
    },
    {
     "name": "stdout",
     "output_type": "stream",
     "text": [
      "\n",
      "Early stopping occurred at epoch 53 with best_epoch = 43 and best_train_accuracy = 0.72499\n",
      "[CV] END gamma=1.5, lambda_sparse=0.0001, n_a=16, n_d=16, n_steps=3; total time=   9.6s\n"
     ]
    },
    {
     "name": "stderr",
     "output_type": "stream",
     "text": [
      "/Users/utkuayten/Library/Python/3.9/lib/python/site-packages/pytorch_tabnet/callbacks.py:172: UserWarning: Best weights from best epoch are automatically used!\n",
      "  warnings.warn(wrn_msg)\n"
     ]
    },
    {
     "name": "stdout",
     "output_type": "stream",
     "text": [
      "\n",
      "Early stopping occurred at epoch 46 with best_epoch = 36 and best_train_accuracy = 0.65954\n",
      "[CV] END gamma=1.5, lambda_sparse=0.0001, n_a=16, n_d=16, n_steps=3; total time=   8.2s\n"
     ]
    },
    {
     "name": "stderr",
     "output_type": "stream",
     "text": [
      "/Users/utkuayten/Library/Python/3.9/lib/python/site-packages/pytorch_tabnet/callbacks.py:172: UserWarning: Best weights from best epoch are automatically used!\n",
      "  warnings.warn(wrn_msg)\n"
     ]
    },
    {
     "name": "stdout",
     "output_type": "stream",
     "text": [
      "\n",
      "Early stopping occurred at epoch 34 with best_epoch = 24 and best_train_accuracy = 0.66549\n",
      "[CV] END gamma=1.5, lambda_sparse=0.0001, n_a=16, n_d=16, n_steps=5; total time=   9.2s\n"
     ]
    },
    {
     "name": "stderr",
     "output_type": "stream",
     "text": [
      "/Users/utkuayten/Library/Python/3.9/lib/python/site-packages/pytorch_tabnet/callbacks.py:172: UserWarning: Best weights from best epoch are automatically used!\n",
      "  warnings.warn(wrn_msg)\n"
     ]
    },
    {
     "name": "stdout",
     "output_type": "stream",
     "text": [
      "\n",
      "Early stopping occurred at epoch 63 with best_epoch = 53 and best_train_accuracy = 0.67629\n",
      "[CV] END gamma=1.5, lambda_sparse=0.0001, n_a=16, n_d=16, n_steps=5; total time=  16.7s\n"
     ]
    },
    {
     "name": "stderr",
     "output_type": "stream",
     "text": [
      "/Users/utkuayten/Library/Python/3.9/lib/python/site-packages/pytorch_tabnet/callbacks.py:172: UserWarning: Best weights from best epoch are automatically used!\n",
      "  warnings.warn(wrn_msg)\n"
     ]
    },
    {
     "name": "stdout",
     "output_type": "stream",
     "text": [
      "\n",
      "Early stopping occurred at epoch 23 with best_epoch = 13 and best_train_accuracy = 0.59079\n",
      "[CV] END gamma=1.5, lambda_sparse=0.0001, n_a=16, n_d=16, n_steps=5; total time=   6.3s\n"
     ]
    },
    {
     "name": "stderr",
     "output_type": "stream",
     "text": [
      "/Users/utkuayten/Library/Python/3.9/lib/python/site-packages/pytorch_tabnet/callbacks.py:172: UserWarning: Best weights from best epoch are automatically used!\n",
      "  warnings.warn(wrn_msg)\n"
     ]
    },
    {
     "name": "stdout",
     "output_type": "stream",
     "text": [
      "Stop training because you reached max_epochs = 100 with best_epoch = 94 and best_train_accuracy = 0.75121\n",
      "[CV] END gamma=1.5, lambda_sparse=0.001, n_a=8, n_d=8, n_steps=3; total time=  14.8s\n"
     ]
    },
    {
     "name": "stderr",
     "output_type": "stream",
     "text": [
      "/Users/utkuayten/Library/Python/3.9/lib/python/site-packages/pytorch_tabnet/callbacks.py:172: UserWarning: Best weights from best epoch are automatically used!\n",
      "  warnings.warn(wrn_msg)\n"
     ]
    },
    {
     "name": "stdout",
     "output_type": "stream",
     "text": [
      "\n",
      "Early stopping occurred at epoch 43 with best_epoch = 33 and best_train_accuracy = 0.6818\n",
      "[CV] END gamma=1.5, lambda_sparse=0.001, n_a=8, n_d=8, n_steps=3; total time=   6.6s\n"
     ]
    },
    {
     "name": "stderr",
     "output_type": "stream",
     "text": [
      "/Users/utkuayten/Library/Python/3.9/lib/python/site-packages/pytorch_tabnet/callbacks.py:172: UserWarning: Best weights from best epoch are automatically used!\n",
      "  warnings.warn(wrn_msg)\n"
     ]
    },
    {
     "name": "stdout",
     "output_type": "stream",
     "text": [
      "\n",
      "Early stopping occurred at epoch 24 with best_epoch = 14 and best_train_accuracy = 0.61877\n",
      "[CV] END gamma=1.5, lambda_sparse=0.001, n_a=8, n_d=8, n_steps=3; total time=   3.8s\n"
     ]
    },
    {
     "name": "stderr",
     "output_type": "stream",
     "text": [
      "/Users/utkuayten/Library/Python/3.9/lib/python/site-packages/pytorch_tabnet/callbacks.py:172: UserWarning: Best weights from best epoch are automatically used!\n",
      "  warnings.warn(wrn_msg)\n"
     ]
    },
    {
     "name": "stdout",
     "output_type": "stream",
     "text": [
      "\n",
      "Early stopping occurred at epoch 55 with best_epoch = 45 and best_train_accuracy = 0.67254\n",
      "[CV] END gamma=1.5, lambda_sparse=0.001, n_a=8, n_d=8, n_steps=5; total time=  12.1s\n"
     ]
    },
    {
     "name": "stderr",
     "output_type": "stream",
     "text": [
      "/Users/utkuayten/Library/Python/3.9/lib/python/site-packages/pytorch_tabnet/callbacks.py:172: UserWarning: Best weights from best epoch are automatically used!\n",
      "  warnings.warn(wrn_msg)\n"
     ]
    },
    {
     "name": "stdout",
     "output_type": "stream",
     "text": [
      "\n",
      "Early stopping occurred at epoch 46 with best_epoch = 36 and best_train_accuracy = 0.66175\n",
      "[CV] END gamma=1.5, lambda_sparse=0.001, n_a=8, n_d=8, n_steps=5; total time=  10.4s\n"
     ]
    },
    {
     "name": "stderr",
     "output_type": "stream",
     "text": [
      "/Users/utkuayten/Library/Python/3.9/lib/python/site-packages/pytorch_tabnet/callbacks.py:172: UserWarning: Best weights from best epoch are automatically used!\n",
      "  warnings.warn(wrn_msg)\n"
     ]
    },
    {
     "name": "stdout",
     "output_type": "stream",
     "text": [
      "\n",
      "Early stopping occurred at epoch 30 with best_epoch = 20 and best_train_accuracy = 0.60115\n",
      "[CV] END gamma=1.5, lambda_sparse=0.001, n_a=8, n_d=8, n_steps=5; total time=   6.8s\n"
     ]
    },
    {
     "name": "stderr",
     "output_type": "stream",
     "text": [
      "/Users/utkuayten/Library/Python/3.9/lib/python/site-packages/pytorch_tabnet/callbacks.py:172: UserWarning: Best weights from best epoch are automatically used!\n",
      "  warnings.warn(wrn_msg)\n"
     ]
    },
    {
     "name": "stdout",
     "output_type": "stream",
     "text": [
      "\n",
      "Early stopping occurred at epoch 87 with best_epoch = 77 and best_train_accuracy = 0.79396\n",
      "[CV] END gamma=1.5, lambda_sparse=0.001, n_a=8, n_d=16, n_steps=3; total time=  14.4s\n"
     ]
    },
    {
     "name": "stderr",
     "output_type": "stream",
     "text": [
      "/Users/utkuayten/Library/Python/3.9/lib/python/site-packages/pytorch_tabnet/callbacks.py:172: UserWarning: Best weights from best epoch are automatically used!\n",
      "  warnings.warn(wrn_msg)\n"
     ]
    },
    {
     "name": "stdout",
     "output_type": "stream",
     "text": [
      "Stop training because you reached max_epochs = 100 with best_epoch = 91 and best_train_accuracy = 0.78581\n",
      "[CV] END gamma=1.5, lambda_sparse=0.001, n_a=8, n_d=16, n_steps=3; total time=  16.6s\n"
     ]
    },
    {
     "name": "stderr",
     "output_type": "stream",
     "text": [
      "/Users/utkuayten/Library/Python/3.9/lib/python/site-packages/pytorch_tabnet/callbacks.py:172: UserWarning: Best weights from best epoch are automatically used!\n",
      "  warnings.warn(wrn_msg)\n"
     ]
    },
    {
     "name": "stdout",
     "output_type": "stream",
     "text": [
      "\n",
      "Early stopping occurred at epoch 52 with best_epoch = 42 and best_train_accuracy = 0.66373\n",
      "[CV] END gamma=1.5, lambda_sparse=0.001, n_a=8, n_d=16, n_steps=3; total time=   8.8s\n"
     ]
    },
    {
     "name": "stderr",
     "output_type": "stream",
     "text": [
      "/Users/utkuayten/Library/Python/3.9/lib/python/site-packages/pytorch_tabnet/callbacks.py:172: UserWarning: Best weights from best epoch are automatically used!\n",
      "  warnings.warn(wrn_msg)\n"
     ]
    },
    {
     "name": "stdout",
     "output_type": "stream",
     "text": [
      "\n",
      "Early stopping occurred at epoch 31 with best_epoch = 21 and best_train_accuracy = 0.65139\n",
      "[CV] END gamma=1.5, lambda_sparse=0.001, n_a=8, n_d=16, n_steps=5; total time=   8.1s\n"
     ]
    },
    {
     "name": "stderr",
     "output_type": "stream",
     "text": [
      "/Users/utkuayten/Library/Python/3.9/lib/python/site-packages/pytorch_tabnet/callbacks.py:172: UserWarning: Best weights from best epoch are automatically used!\n",
      "  warnings.warn(wrn_msg)\n"
     ]
    },
    {
     "name": "stdout",
     "output_type": "stream",
     "text": [
      "\n",
      "Early stopping occurred at epoch 33 with best_epoch = 23 and best_train_accuracy = 0.66351\n",
      "[CV] END gamma=1.5, lambda_sparse=0.001, n_a=8, n_d=16, n_steps=5; total time=   8.6s\n"
     ]
    },
    {
     "name": "stderr",
     "output_type": "stream",
     "text": [
      "/Users/utkuayten/Library/Python/3.9/lib/python/site-packages/pytorch_tabnet/callbacks.py:172: UserWarning: Best weights from best epoch are automatically used!\n",
      "  warnings.warn(wrn_msg)\n"
     ]
    },
    {
     "name": "stdout",
     "output_type": "stream",
     "text": [
      "\n",
      "Early stopping occurred at epoch 45 with best_epoch = 35 and best_train_accuracy = 0.60798\n",
      "[CV] END gamma=1.5, lambda_sparse=0.001, n_a=8, n_d=16, n_steps=5; total time=  11.6s\n"
     ]
    },
    {
     "name": "stderr",
     "output_type": "stream",
     "text": [
      "/Users/utkuayten/Library/Python/3.9/lib/python/site-packages/pytorch_tabnet/callbacks.py:172: UserWarning: Best weights from best epoch are automatically used!\n",
      "  warnings.warn(wrn_msg)\n"
     ]
    },
    {
     "name": "stdout",
     "output_type": "stream",
     "text": [
      "Stop training because you reached max_epochs = 100 with best_epoch = 98 and best_train_accuracy = 0.79815\n",
      "[CV] END gamma=1.5, lambda_sparse=0.001, n_a=16, n_d=8, n_steps=3; total time=  16.5s\n"
     ]
    },
    {
     "name": "stderr",
     "output_type": "stream",
     "text": [
      "/Users/utkuayten/Library/Python/3.9/lib/python/site-packages/pytorch_tabnet/callbacks.py:172: UserWarning: Best weights from best epoch are automatically used!\n",
      "  warnings.warn(wrn_msg)\n"
     ]
    },
    {
     "name": "stdout",
     "output_type": "stream",
     "text": [
      "\n",
      "Early stopping occurred at epoch 53 with best_epoch = 43 and best_train_accuracy = 0.7175\n",
      "[CV] END gamma=1.5, lambda_sparse=0.001, n_a=16, n_d=8, n_steps=3; total time=   8.8s\n"
     ]
    },
    {
     "name": "stderr",
     "output_type": "stream",
     "text": [
      "/Users/utkuayten/Library/Python/3.9/lib/python/site-packages/pytorch_tabnet/callbacks.py:172: UserWarning: Best weights from best epoch are automatically used!\n",
      "  warnings.warn(wrn_msg)\n"
     ]
    },
    {
     "name": "stdout",
     "output_type": "stream",
     "text": [
      "Stop training because you reached max_epochs = 100 with best_epoch = 99 and best_train_accuracy = 0.69766\n",
      "[CV] END gamma=1.5, lambda_sparse=0.001, n_a=16, n_d=8, n_steps=3; total time=  16.5s\n"
     ]
    },
    {
     "name": "stderr",
     "output_type": "stream",
     "text": [
      "/Users/utkuayten/Library/Python/3.9/lib/python/site-packages/pytorch_tabnet/callbacks.py:172: UserWarning: Best weights from best epoch are automatically used!\n",
      "  warnings.warn(wrn_msg)\n"
     ]
    },
    {
     "name": "stdout",
     "output_type": "stream",
     "text": [
      "\n",
      "Early stopping occurred at epoch 48 with best_epoch = 38 and best_train_accuracy = 0.68158\n",
      "[CV] END gamma=1.5, lambda_sparse=0.001, n_a=16, n_d=8, n_steps=5; total time=  11.9s\n"
     ]
    },
    {
     "name": "stderr",
     "output_type": "stream",
     "text": [
      "/Users/utkuayten/Library/Python/3.9/lib/python/site-packages/pytorch_tabnet/callbacks.py:172: UserWarning: Best weights from best epoch are automatically used!\n",
      "  warnings.warn(wrn_msg)\n"
     ]
    },
    {
     "name": "stdout",
     "output_type": "stream",
     "text": [
      "\n",
      "Early stopping occurred at epoch 29 with best_epoch = 19 and best_train_accuracy = 0.64213\n",
      "[CV] END gamma=1.5, lambda_sparse=0.001, n_a=16, n_d=8, n_steps=5; total time=   7.5s\n"
     ]
    },
    {
     "name": "stderr",
     "output_type": "stream",
     "text": [
      "/Users/utkuayten/Library/Python/3.9/lib/python/site-packages/pytorch_tabnet/callbacks.py:172: UserWarning: Best weights from best epoch are automatically used!\n",
      "  warnings.warn(wrn_msg)\n"
     ]
    },
    {
     "name": "stdout",
     "output_type": "stream",
     "text": [
      "\n",
      "Early stopping occurred at epoch 26 with best_epoch = 16 and best_train_accuracy = 0.58947\n",
      "[CV] END gamma=1.5, lambda_sparse=0.001, n_a=16, n_d=8, n_steps=5; total time=   7.4s\n"
     ]
    },
    {
     "name": "stderr",
     "output_type": "stream",
     "text": [
      "/Users/utkuayten/Library/Python/3.9/lib/python/site-packages/pytorch_tabnet/callbacks.py:172: UserWarning: Best weights from best epoch are automatically used!\n",
      "  warnings.warn(wrn_msg)\n"
     ]
    },
    {
     "name": "stdout",
     "output_type": "stream",
     "text": [
      "\n",
      "Early stopping occurred at epoch 56 with best_epoch = 46 and best_train_accuracy = 0.73072\n",
      "[CV] END gamma=1.5, lambda_sparse=0.001, n_a=16, n_d=16, n_steps=3; total time=  11.7s\n"
     ]
    },
    {
     "name": "stderr",
     "output_type": "stream",
     "text": [
      "/Users/utkuayten/Library/Python/3.9/lib/python/site-packages/pytorch_tabnet/callbacks.py:172: UserWarning: Best weights from best epoch are automatically used!\n",
      "  warnings.warn(wrn_msg)\n"
     ]
    },
    {
     "name": "stdout",
     "output_type": "stream",
     "text": [
      "\n",
      "Early stopping occurred at epoch 82 with best_epoch = 72 and best_train_accuracy = 0.74747\n",
      "[CV] END gamma=1.5, lambda_sparse=0.001, n_a=16, n_d=16, n_steps=3; total time=  16.8s\n"
     ]
    },
    {
     "name": "stderr",
     "output_type": "stream",
     "text": [
      "/Users/utkuayten/Library/Python/3.9/lib/python/site-packages/pytorch_tabnet/callbacks.py:172: UserWarning: Best weights from best epoch are automatically used!\n",
      "  warnings.warn(wrn_msg)\n"
     ]
    },
    {
     "name": "stdout",
     "output_type": "stream",
     "text": [
      "Stop training because you reached max_epochs = 100 with best_epoch = 96 and best_train_accuracy = 0.70868\n",
      "[CV] END gamma=1.5, lambda_sparse=0.001, n_a=16, n_d=16, n_steps=3; total time=  20.1s\n"
     ]
    },
    {
     "name": "stderr",
     "output_type": "stream",
     "text": [
      "/Users/utkuayten/Library/Python/3.9/lib/python/site-packages/pytorch_tabnet/callbacks.py:172: UserWarning: Best weights from best epoch are automatically used!\n",
      "  warnings.warn(wrn_msg)\n"
     ]
    },
    {
     "name": "stdout",
     "output_type": "stream",
     "text": [
      "\n",
      "Early stopping occurred at epoch 45 with best_epoch = 35 and best_train_accuracy = 0.67651\n",
      "[CV] END gamma=1.5, lambda_sparse=0.001, n_a=16, n_d=16, n_steps=5; total time=  14.8s\n"
     ]
    },
    {
     "name": "stderr",
     "output_type": "stream",
     "text": [
      "/Users/utkuayten/Library/Python/3.9/lib/python/site-packages/pytorch_tabnet/callbacks.py:172: UserWarning: Best weights from best epoch are automatically used!\n",
      "  warnings.warn(wrn_msg)\n"
     ]
    },
    {
     "name": "stdout",
     "output_type": "stream",
     "text": [
      "\n",
      "Early stopping occurred at epoch 27 with best_epoch = 17 and best_train_accuracy = 0.64412\n",
      "[CV] END gamma=1.5, lambda_sparse=0.001, n_a=16, n_d=16, n_steps=5; total time=   8.4s\n"
     ]
    },
    {
     "name": "stderr",
     "output_type": "stream",
     "text": [
      "/Users/utkuayten/Library/Python/3.9/lib/python/site-packages/pytorch_tabnet/callbacks.py:172: UserWarning: Best weights from best epoch are automatically used!\n",
      "  warnings.warn(wrn_msg)\n"
     ]
    },
    {
     "name": "stdout",
     "output_type": "stream",
     "text": [
      "\n",
      "Early stopping occurred at epoch 28 with best_epoch = 18 and best_train_accuracy = 0.59674\n",
      "[CV] END gamma=1.5, lambda_sparse=0.001, n_a=16, n_d=16, n_steps=5; total time=   8.5s\n"
     ]
    },
    {
     "name": "stderr",
     "output_type": "stream",
     "text": [
      "/Users/utkuayten/Library/Python/3.9/lib/python/site-packages/pytorch_tabnet/callbacks.py:172: UserWarning: Best weights from best epoch are automatically used!\n",
      "  warnings.warn(wrn_msg)\n"
     ]
    },
    {
     "name": "stdout",
     "output_type": "stream",
     "text": [
      "\n",
      "Early stopping occurred at epoch 52 with best_epoch = 42 and best_train_accuracy = 0.70339\n"
     ]
    },
    {
     "name": "stderr",
     "output_type": "stream",
     "text": [
      "/Users/utkuayten/Library/Python/3.9/lib/python/site-packages/pytorch_tabnet/callbacks.py:172: UserWarning: Best weights from best epoch are automatically used!\n",
      "  warnings.warn(wrn_msg)\n"
     ]
    },
    {
     "data": {
      "text/plain": [
       "GridSearchCV(cv=3, estimator=TabNetSklearnWrapper(), n_jobs=1,\n",
       "             param_grid={'gamma': [1.0, 1.5], 'lambda_sparse': [0.0001, 0.001],\n",
       "                         'n_a': [8, 16], 'n_d': [8, 16], 'n_steps': [3, 5]},\n",
       "             scoring='accuracy', verbose=2)"
      ],
      "text/html": [
       "<style>#sk-container-id-2 {\n",
       "  /* Definition of color scheme common for light and dark mode */\n",
       "  --sklearn-color-text: #000;\n",
       "  --sklearn-color-text-muted: #666;\n",
       "  --sklearn-color-line: gray;\n",
       "  /* Definition of color scheme for unfitted estimators */\n",
       "  --sklearn-color-unfitted-level-0: #fff5e6;\n",
       "  --sklearn-color-unfitted-level-1: #f6e4d2;\n",
       "  --sklearn-color-unfitted-level-2: #ffe0b3;\n",
       "  --sklearn-color-unfitted-level-3: chocolate;\n",
       "  /* Definition of color scheme for fitted estimators */\n",
       "  --sklearn-color-fitted-level-0: #f0f8ff;\n",
       "  --sklearn-color-fitted-level-1: #d4ebff;\n",
       "  --sklearn-color-fitted-level-2: #b3dbfd;\n",
       "  --sklearn-color-fitted-level-3: cornflowerblue;\n",
       "\n",
       "  /* Specific color for light theme */\n",
       "  --sklearn-color-text-on-default-background: var(--sg-text-color, var(--theme-code-foreground, var(--jp-content-font-color1, black)));\n",
       "  --sklearn-color-background: var(--sg-background-color, var(--theme-background, var(--jp-layout-color0, white)));\n",
       "  --sklearn-color-border-box: var(--sg-text-color, var(--theme-code-foreground, var(--jp-content-font-color1, black)));\n",
       "  --sklearn-color-icon: #696969;\n",
       "\n",
       "  @media (prefers-color-scheme: dark) {\n",
       "    /* Redefinition of color scheme for dark theme */\n",
       "    --sklearn-color-text-on-default-background: var(--sg-text-color, var(--theme-code-foreground, var(--jp-content-font-color1, white)));\n",
       "    --sklearn-color-background: var(--sg-background-color, var(--theme-background, var(--jp-layout-color0, #111)));\n",
       "    --sklearn-color-border-box: var(--sg-text-color, var(--theme-code-foreground, var(--jp-content-font-color1, white)));\n",
       "    --sklearn-color-icon: #878787;\n",
       "  }\n",
       "}\n",
       "\n",
       "#sk-container-id-2 {\n",
       "  color: var(--sklearn-color-text);\n",
       "}\n",
       "\n",
       "#sk-container-id-2 pre {\n",
       "  padding: 0;\n",
       "}\n",
       "\n",
       "#sk-container-id-2 input.sk-hidden--visually {\n",
       "  border: 0;\n",
       "  clip: rect(1px 1px 1px 1px);\n",
       "  clip: rect(1px, 1px, 1px, 1px);\n",
       "  height: 1px;\n",
       "  margin: -1px;\n",
       "  overflow: hidden;\n",
       "  padding: 0;\n",
       "  position: absolute;\n",
       "  width: 1px;\n",
       "}\n",
       "\n",
       "#sk-container-id-2 div.sk-dashed-wrapped {\n",
       "  border: 1px dashed var(--sklearn-color-line);\n",
       "  margin: 0 0.4em 0.5em 0.4em;\n",
       "  box-sizing: border-box;\n",
       "  padding-bottom: 0.4em;\n",
       "  background-color: var(--sklearn-color-background);\n",
       "}\n",
       "\n",
       "#sk-container-id-2 div.sk-container {\n",
       "  /* jupyter's `normalize.less` sets `[hidden] { display: none; }`\n",
       "     but bootstrap.min.css set `[hidden] { display: none !important; }`\n",
       "     so we also need the `!important` here to be able to override the\n",
       "     default hidden behavior on the sphinx rendered scikit-learn.org.\n",
       "     See: https://github.com/scikit-learn/scikit-learn/issues/21755 */\n",
       "  display: inline-block !important;\n",
       "  position: relative;\n",
       "}\n",
       "\n",
       "#sk-container-id-2 div.sk-text-repr-fallback {\n",
       "  display: none;\n",
       "}\n",
       "\n",
       "div.sk-parallel-item,\n",
       "div.sk-serial,\n",
       "div.sk-item {\n",
       "  /* draw centered vertical line to link estimators */\n",
       "  background-image: linear-gradient(var(--sklearn-color-text-on-default-background), var(--sklearn-color-text-on-default-background));\n",
       "  background-size: 2px 100%;\n",
       "  background-repeat: no-repeat;\n",
       "  background-position: center center;\n",
       "}\n",
       "\n",
       "/* Parallel-specific style estimator block */\n",
       "\n",
       "#sk-container-id-2 div.sk-parallel-item::after {\n",
       "  content: \"\";\n",
       "  width: 100%;\n",
       "  border-bottom: 2px solid var(--sklearn-color-text-on-default-background);\n",
       "  flex-grow: 1;\n",
       "}\n",
       "\n",
       "#sk-container-id-2 div.sk-parallel {\n",
       "  display: flex;\n",
       "  align-items: stretch;\n",
       "  justify-content: center;\n",
       "  background-color: var(--sklearn-color-background);\n",
       "  position: relative;\n",
       "}\n",
       "\n",
       "#sk-container-id-2 div.sk-parallel-item {\n",
       "  display: flex;\n",
       "  flex-direction: column;\n",
       "}\n",
       "\n",
       "#sk-container-id-2 div.sk-parallel-item:first-child::after {\n",
       "  align-self: flex-end;\n",
       "  width: 50%;\n",
       "}\n",
       "\n",
       "#sk-container-id-2 div.sk-parallel-item:last-child::after {\n",
       "  align-self: flex-start;\n",
       "  width: 50%;\n",
       "}\n",
       "\n",
       "#sk-container-id-2 div.sk-parallel-item:only-child::after {\n",
       "  width: 0;\n",
       "}\n",
       "\n",
       "/* Serial-specific style estimator block */\n",
       "\n",
       "#sk-container-id-2 div.sk-serial {\n",
       "  display: flex;\n",
       "  flex-direction: column;\n",
       "  align-items: center;\n",
       "  background-color: var(--sklearn-color-background);\n",
       "  padding-right: 1em;\n",
       "  padding-left: 1em;\n",
       "}\n",
       "\n",
       "\n",
       "/* Toggleable style: style used for estimator/Pipeline/ColumnTransformer box that is\n",
       "clickable and can be expanded/collapsed.\n",
       "- Pipeline and ColumnTransformer use this feature and define the default style\n",
       "- Estimators will overwrite some part of the style using the `sk-estimator` class\n",
       "*/\n",
       "\n",
       "/* Pipeline and ColumnTransformer style (default) */\n",
       "\n",
       "#sk-container-id-2 div.sk-toggleable {\n",
       "  /* Default theme specific background. It is overwritten whether we have a\n",
       "  specific estimator or a Pipeline/ColumnTransformer */\n",
       "  background-color: var(--sklearn-color-background);\n",
       "}\n",
       "\n",
       "/* Toggleable label */\n",
       "#sk-container-id-2 label.sk-toggleable__label {\n",
       "  cursor: pointer;\n",
       "  display: flex;\n",
       "  width: 100%;\n",
       "  margin-bottom: 0;\n",
       "  padding: 0.5em;\n",
       "  box-sizing: border-box;\n",
       "  text-align: center;\n",
       "  align-items: start;\n",
       "  justify-content: space-between;\n",
       "  gap: 0.5em;\n",
       "}\n",
       "\n",
       "#sk-container-id-2 label.sk-toggleable__label .caption {\n",
       "  font-size: 0.6rem;\n",
       "  font-weight: lighter;\n",
       "  color: var(--sklearn-color-text-muted);\n",
       "}\n",
       "\n",
       "#sk-container-id-2 label.sk-toggleable__label-arrow:before {\n",
       "  /* Arrow on the left of the label */\n",
       "  content: \"▸\";\n",
       "  float: left;\n",
       "  margin-right: 0.25em;\n",
       "  color: var(--sklearn-color-icon);\n",
       "}\n",
       "\n",
       "#sk-container-id-2 label.sk-toggleable__label-arrow:hover:before {\n",
       "  color: var(--sklearn-color-text);\n",
       "}\n",
       "\n",
       "/* Toggleable content - dropdown */\n",
       "\n",
       "#sk-container-id-2 div.sk-toggleable__content {\n",
       "  max-height: 0;\n",
       "  max-width: 0;\n",
       "  overflow: hidden;\n",
       "  text-align: left;\n",
       "  /* unfitted */\n",
       "  background-color: var(--sklearn-color-unfitted-level-0);\n",
       "}\n",
       "\n",
       "#sk-container-id-2 div.sk-toggleable__content.fitted {\n",
       "  /* fitted */\n",
       "  background-color: var(--sklearn-color-fitted-level-0);\n",
       "}\n",
       "\n",
       "#sk-container-id-2 div.sk-toggleable__content pre {\n",
       "  margin: 0.2em;\n",
       "  border-radius: 0.25em;\n",
       "  color: var(--sklearn-color-text);\n",
       "  /* unfitted */\n",
       "  background-color: var(--sklearn-color-unfitted-level-0);\n",
       "}\n",
       "\n",
       "#sk-container-id-2 div.sk-toggleable__content.fitted pre {\n",
       "  /* unfitted */\n",
       "  background-color: var(--sklearn-color-fitted-level-0);\n",
       "}\n",
       "\n",
       "#sk-container-id-2 input.sk-toggleable__control:checked~div.sk-toggleable__content {\n",
       "  /* Expand drop-down */\n",
       "  max-height: 200px;\n",
       "  max-width: 100%;\n",
       "  overflow: auto;\n",
       "}\n",
       "\n",
       "#sk-container-id-2 input.sk-toggleable__control:checked~label.sk-toggleable__label-arrow:before {\n",
       "  content: \"▾\";\n",
       "}\n",
       "\n",
       "/* Pipeline/ColumnTransformer-specific style */\n",
       "\n",
       "#sk-container-id-2 div.sk-label input.sk-toggleable__control:checked~label.sk-toggleable__label {\n",
       "  color: var(--sklearn-color-text);\n",
       "  background-color: var(--sklearn-color-unfitted-level-2);\n",
       "}\n",
       "\n",
       "#sk-container-id-2 div.sk-label.fitted input.sk-toggleable__control:checked~label.sk-toggleable__label {\n",
       "  background-color: var(--sklearn-color-fitted-level-2);\n",
       "}\n",
       "\n",
       "/* Estimator-specific style */\n",
       "\n",
       "/* Colorize estimator box */\n",
       "#sk-container-id-2 div.sk-estimator input.sk-toggleable__control:checked~label.sk-toggleable__label {\n",
       "  /* unfitted */\n",
       "  background-color: var(--sklearn-color-unfitted-level-2);\n",
       "}\n",
       "\n",
       "#sk-container-id-2 div.sk-estimator.fitted input.sk-toggleable__control:checked~label.sk-toggleable__label {\n",
       "  /* fitted */\n",
       "  background-color: var(--sklearn-color-fitted-level-2);\n",
       "}\n",
       "\n",
       "#sk-container-id-2 div.sk-label label.sk-toggleable__label,\n",
       "#sk-container-id-2 div.sk-label label {\n",
       "  /* The background is the default theme color */\n",
       "  color: var(--sklearn-color-text-on-default-background);\n",
       "}\n",
       "\n",
       "/* On hover, darken the color of the background */\n",
       "#sk-container-id-2 div.sk-label:hover label.sk-toggleable__label {\n",
       "  color: var(--sklearn-color-text);\n",
       "  background-color: var(--sklearn-color-unfitted-level-2);\n",
       "}\n",
       "\n",
       "/* Label box, darken color on hover, fitted */\n",
       "#sk-container-id-2 div.sk-label.fitted:hover label.sk-toggleable__label.fitted {\n",
       "  color: var(--sklearn-color-text);\n",
       "  background-color: var(--sklearn-color-fitted-level-2);\n",
       "}\n",
       "\n",
       "/* Estimator label */\n",
       "\n",
       "#sk-container-id-2 div.sk-label label {\n",
       "  font-family: monospace;\n",
       "  font-weight: bold;\n",
       "  display: inline-block;\n",
       "  line-height: 1.2em;\n",
       "}\n",
       "\n",
       "#sk-container-id-2 div.sk-label-container {\n",
       "  text-align: center;\n",
       "}\n",
       "\n",
       "/* Estimator-specific */\n",
       "#sk-container-id-2 div.sk-estimator {\n",
       "  font-family: monospace;\n",
       "  border: 1px dotted var(--sklearn-color-border-box);\n",
       "  border-radius: 0.25em;\n",
       "  box-sizing: border-box;\n",
       "  margin-bottom: 0.5em;\n",
       "  /* unfitted */\n",
       "  background-color: var(--sklearn-color-unfitted-level-0);\n",
       "}\n",
       "\n",
       "#sk-container-id-2 div.sk-estimator.fitted {\n",
       "  /* fitted */\n",
       "  background-color: var(--sklearn-color-fitted-level-0);\n",
       "}\n",
       "\n",
       "/* on hover */\n",
       "#sk-container-id-2 div.sk-estimator:hover {\n",
       "  /* unfitted */\n",
       "  background-color: var(--sklearn-color-unfitted-level-2);\n",
       "}\n",
       "\n",
       "#sk-container-id-2 div.sk-estimator.fitted:hover {\n",
       "  /* fitted */\n",
       "  background-color: var(--sklearn-color-fitted-level-2);\n",
       "}\n",
       "\n",
       "/* Specification for estimator info (e.g. \"i\" and \"?\") */\n",
       "\n",
       "/* Common style for \"i\" and \"?\" */\n",
       "\n",
       ".sk-estimator-doc-link,\n",
       "a:link.sk-estimator-doc-link,\n",
       "a:visited.sk-estimator-doc-link {\n",
       "  float: right;\n",
       "  font-size: smaller;\n",
       "  line-height: 1em;\n",
       "  font-family: monospace;\n",
       "  background-color: var(--sklearn-color-background);\n",
       "  border-radius: 1em;\n",
       "  height: 1em;\n",
       "  width: 1em;\n",
       "  text-decoration: none !important;\n",
       "  margin-left: 0.5em;\n",
       "  text-align: center;\n",
       "  /* unfitted */\n",
       "  border: var(--sklearn-color-unfitted-level-1) 1pt solid;\n",
       "  color: var(--sklearn-color-unfitted-level-1);\n",
       "}\n",
       "\n",
       ".sk-estimator-doc-link.fitted,\n",
       "a:link.sk-estimator-doc-link.fitted,\n",
       "a:visited.sk-estimator-doc-link.fitted {\n",
       "  /* fitted */\n",
       "  border: var(--sklearn-color-fitted-level-1) 1pt solid;\n",
       "  color: var(--sklearn-color-fitted-level-1);\n",
       "}\n",
       "\n",
       "/* On hover */\n",
       "div.sk-estimator:hover .sk-estimator-doc-link:hover,\n",
       ".sk-estimator-doc-link:hover,\n",
       "div.sk-label-container:hover .sk-estimator-doc-link:hover,\n",
       ".sk-estimator-doc-link:hover {\n",
       "  /* unfitted */\n",
       "  background-color: var(--sklearn-color-unfitted-level-3);\n",
       "  color: var(--sklearn-color-background);\n",
       "  text-decoration: none;\n",
       "}\n",
       "\n",
       "div.sk-estimator.fitted:hover .sk-estimator-doc-link.fitted:hover,\n",
       ".sk-estimator-doc-link.fitted:hover,\n",
       "div.sk-label-container:hover .sk-estimator-doc-link.fitted:hover,\n",
       ".sk-estimator-doc-link.fitted:hover {\n",
       "  /* fitted */\n",
       "  background-color: var(--sklearn-color-fitted-level-3);\n",
       "  color: var(--sklearn-color-background);\n",
       "  text-decoration: none;\n",
       "}\n",
       "\n",
       "/* Span, style for the box shown on hovering the info icon */\n",
       ".sk-estimator-doc-link span {\n",
       "  display: none;\n",
       "  z-index: 9999;\n",
       "  position: relative;\n",
       "  font-weight: normal;\n",
       "  right: .2ex;\n",
       "  padding: .5ex;\n",
       "  margin: .5ex;\n",
       "  width: min-content;\n",
       "  min-width: 20ex;\n",
       "  max-width: 50ex;\n",
       "  color: var(--sklearn-color-text);\n",
       "  box-shadow: 2pt 2pt 4pt #999;\n",
       "  /* unfitted */\n",
       "  background: var(--sklearn-color-unfitted-level-0);\n",
       "  border: .5pt solid var(--sklearn-color-unfitted-level-3);\n",
       "}\n",
       "\n",
       ".sk-estimator-doc-link.fitted span {\n",
       "  /* fitted */\n",
       "  background: var(--sklearn-color-fitted-level-0);\n",
       "  border: var(--sklearn-color-fitted-level-3);\n",
       "}\n",
       "\n",
       ".sk-estimator-doc-link:hover span {\n",
       "  display: block;\n",
       "}\n",
       "\n",
       "/* \"?\"-specific style due to the `<a>` HTML tag */\n",
       "\n",
       "#sk-container-id-2 a.estimator_doc_link {\n",
       "  float: right;\n",
       "  font-size: 1rem;\n",
       "  line-height: 1em;\n",
       "  font-family: monospace;\n",
       "  background-color: var(--sklearn-color-background);\n",
       "  border-radius: 1rem;\n",
       "  height: 1rem;\n",
       "  width: 1rem;\n",
       "  text-decoration: none;\n",
       "  /* unfitted */\n",
       "  color: var(--sklearn-color-unfitted-level-1);\n",
       "  border: var(--sklearn-color-unfitted-level-1) 1pt solid;\n",
       "}\n",
       "\n",
       "#sk-container-id-2 a.estimator_doc_link.fitted {\n",
       "  /* fitted */\n",
       "  border: var(--sklearn-color-fitted-level-1) 1pt solid;\n",
       "  color: var(--sklearn-color-fitted-level-1);\n",
       "}\n",
       "\n",
       "/* On hover */\n",
       "#sk-container-id-2 a.estimator_doc_link:hover {\n",
       "  /* unfitted */\n",
       "  background-color: var(--sklearn-color-unfitted-level-3);\n",
       "  color: var(--sklearn-color-background);\n",
       "  text-decoration: none;\n",
       "}\n",
       "\n",
       "#sk-container-id-2 a.estimator_doc_link.fitted:hover {\n",
       "  /* fitted */\n",
       "  background-color: var(--sklearn-color-fitted-level-3);\n",
       "}\n",
       "</style><div id=\"sk-container-id-2\" class=\"sk-top-container\"><div class=\"sk-text-repr-fallback\"><pre>GridSearchCV(cv=3, estimator=TabNetSklearnWrapper(), n_jobs=1,\n",
       "             param_grid={&#x27;gamma&#x27;: [1.0, 1.5], &#x27;lambda_sparse&#x27;: [0.0001, 0.001],\n",
       "                         &#x27;n_a&#x27;: [8, 16], &#x27;n_d&#x27;: [8, 16], &#x27;n_steps&#x27;: [3, 5]},\n",
       "             scoring=&#x27;accuracy&#x27;, verbose=2)</pre><b>In a Jupyter environment, please rerun this cell to show the HTML representation or trust the notebook. <br />On GitHub, the HTML representation is unable to render, please try loading this page with nbviewer.org.</b></div><div class=\"sk-container\" hidden><div class=\"sk-item sk-dashed-wrapped\"><div class=\"sk-label-container\"><div class=\"sk-label fitted sk-toggleable\"><input class=\"sk-toggleable__control sk-hidden--visually\" id=\"sk-estimator-id-4\" type=\"checkbox\" ><label for=\"sk-estimator-id-4\" class=\"sk-toggleable__label fitted sk-toggleable__label-arrow\"><div><div>GridSearchCV</div></div><div><a class=\"sk-estimator-doc-link fitted\" rel=\"noreferrer\" target=\"_blank\" href=\"https://scikit-learn.org/1.6/modules/generated/sklearn.model_selection.GridSearchCV.html\">?<span>Documentation for GridSearchCV</span></a><span class=\"sk-estimator-doc-link fitted\">i<span>Fitted</span></span></div></label><div class=\"sk-toggleable__content fitted\"><pre>GridSearchCV(cv=3, estimator=TabNetSklearnWrapper(), n_jobs=1,\n",
       "             param_grid={&#x27;gamma&#x27;: [1.0, 1.5], &#x27;lambda_sparse&#x27;: [0.0001, 0.001],\n",
       "                         &#x27;n_a&#x27;: [8, 16], &#x27;n_d&#x27;: [8, 16], &#x27;n_steps&#x27;: [3, 5]},\n",
       "             scoring=&#x27;accuracy&#x27;, verbose=2)</pre></div> </div></div><div class=\"sk-parallel\"><div class=\"sk-parallel-item\"><div class=\"sk-item\"><div class=\"sk-label-container\"><div class=\"sk-label fitted sk-toggleable\"><input class=\"sk-toggleable__control sk-hidden--visually\" id=\"sk-estimator-id-5\" type=\"checkbox\" ><label for=\"sk-estimator-id-5\" class=\"sk-toggleable__label fitted sk-toggleable__label-arrow\"><div><div>best_estimator_: TabNetSklearnWrapper</div></div></label><div class=\"sk-toggleable__content fitted\"><pre>TabNetSklearnWrapper(n_a=16)</pre></div> </div></div><div class=\"sk-serial\"><div class=\"sk-item\"><div class=\"sk-estimator fitted sk-toggleable\"><input class=\"sk-toggleable__control sk-hidden--visually\" id=\"sk-estimator-id-6\" type=\"checkbox\" ><label for=\"sk-estimator-id-6\" class=\"sk-toggleable__label fitted sk-toggleable__label-arrow\"><div><div>TabNetSklearnWrapper</div></div></label><div class=\"sk-toggleable__content fitted\"><pre>TabNetSklearnWrapper(n_a=16)</pre></div> </div></div></div></div></div></div></div></div></div>"
      ]
     },
     "execution_count": 31,
     "metadata": {},
     "output_type": "execute_result"
    }
   ],
   "execution_count": 31
  },
  {
   "metadata": {
    "ExecuteTime": {
     "end_time": "2025-05-20T11:14:01.214138Z",
     "start_time": "2025-05-20T11:14:01.197213Z"
    }
   },
   "cell_type": "code",
   "source": [
    "import pandas as pd\n",
    "\n",
    "# Convert cv_results_ to DataFrame\n",
    "results_df = pd.DataFrame(grid.cv_results_)\n",
    "\n",
    "# Optional: select relevant columns\n",
    "columns_to_keep = [\n",
    "    'mean_test_score', 'std_test_score', 'rank_test_score',\n",
    "    'param_n_d', 'param_n_a', 'param_n_steps',\n",
    "    'param_gamma', 'param_lambda_sparse'\n",
    "]\n",
    "\n",
    "results_df = results_df[columns_to_keep]\n",
    "\n",
    "# Save to CSV\n",
    "results_df.to_csv(\"tabnet_wine_results_smote.csv\", index=False)\n",
    "\n",
    "print(\"✅ Grid search results saved to 'tabnet_wine_results_smote.csv'\")\n"
   ],
   "id": "20081d333b2d9630",
   "outputs": [
    {
     "name": "stdout",
     "output_type": "stream",
     "text": [
      "✅ Grid search results saved to 'tabnet_wine_results_smote.csv'\n"
     ]
    }
   ],
   "execution_count": 32
  },
  {
   "metadata": {
    "ExecuteTime": {
     "end_time": "2025-05-20T11:14:01.231836Z",
     "start_time": "2025-05-20T11:14:01.219170Z"
    }
   },
   "cell_type": "code",
   "source": "results_df",
   "id": "730d2e41aeb58a84",
   "outputs": [
    {
     "data": {
      "text/plain": [
       "    mean_test_score  std_test_score  rank_test_score  param_n_d  param_n_a  \\\n",
       "0          0.534891        0.013845               14          8          8   \n",
       "1          0.523872        0.031847               20          8          8   \n",
       "2          0.554723        0.034651               10         16          8   \n",
       "3          0.514764        0.062844               22         16          8   \n",
       "4          0.603056        0.036158                1          8         16   \n",
       "5          0.519318        0.040619               21          8         16   \n",
       "6          0.563097        0.040228                5         16         16   \n",
       "7          0.533862        0.023327               17         16         16   \n",
       "8          0.564566        0.003298                4          8          8   \n",
       "9          0.534450        0.007342               15          8          8   \n",
       "10         0.555311        0.006366                9         16          8   \n",
       "11         0.526370        0.037039               19         16          8   \n",
       "12         0.557074        0.031103                8          8         16   \n",
       "13         0.510063        0.042836               23          8         16   \n",
       "14         0.560306        0.018827                7         16         16   \n",
       "15         0.529308        0.017186               18         16         16   \n",
       "16         0.541942        0.028567               12          8          8   \n",
       "17         0.435728        0.051643               31          8          8   \n",
       "18         0.542677        0.016554               11         16          8   \n",
       "19         0.491553        0.026600               24         16          8   \n",
       "20         0.541061        0.030299               13          8         16   \n",
       "21         0.459233        0.052778               29          8         16   \n",
       "22         0.534303        0.034222               16         16         16   \n",
       "23         0.462318        0.057403               28         16         16   \n",
       "24         0.484207        0.067210               25          8          8   \n",
       "25         0.471573        0.067452               26          8          8   \n",
       "26         0.561922        0.034838                6         16          8   \n",
       "27         0.456736        0.052702               30         16          8   \n",
       "28         0.583811        0.030086                2          8         16   \n",
       "29         0.428383        0.081650               32          8         16   \n",
       "30         0.573380        0.026451                3         16         16   \n",
       "31         0.469957        0.041566               27         16         16   \n",
       "\n",
       "    param_n_steps  param_gamma  param_lambda_sparse  \n",
       "0               3          1.0               0.0001  \n",
       "1               5          1.0               0.0001  \n",
       "2               3          1.0               0.0001  \n",
       "3               5          1.0               0.0001  \n",
       "4               3          1.0               0.0001  \n",
       "5               5          1.0               0.0001  \n",
       "6               3          1.0               0.0001  \n",
       "7               5          1.0               0.0001  \n",
       "8               3          1.0               0.0010  \n",
       "9               5          1.0               0.0010  \n",
       "10              3          1.0               0.0010  \n",
       "11              5          1.0               0.0010  \n",
       "12              3          1.0               0.0010  \n",
       "13              5          1.0               0.0010  \n",
       "14              3          1.0               0.0010  \n",
       "15              5          1.0               0.0010  \n",
       "16              3          1.5               0.0001  \n",
       "17              5          1.5               0.0001  \n",
       "18              3          1.5               0.0001  \n",
       "19              5          1.5               0.0001  \n",
       "20              3          1.5               0.0001  \n",
       "21              5          1.5               0.0001  \n",
       "22              3          1.5               0.0001  \n",
       "23              5          1.5               0.0001  \n",
       "24              3          1.5               0.0010  \n",
       "25              5          1.5               0.0010  \n",
       "26              3          1.5               0.0010  \n",
       "27              5          1.5               0.0010  \n",
       "28              3          1.5               0.0010  \n",
       "29              5          1.5               0.0010  \n",
       "30              3          1.5               0.0010  \n",
       "31              5          1.5               0.0010  "
      ],
      "text/html": [
       "<div>\n",
       "<style scoped>\n",
       "    .dataframe tbody tr th:only-of-type {\n",
       "        vertical-align: middle;\n",
       "    }\n",
       "\n",
       "    .dataframe tbody tr th {\n",
       "        vertical-align: top;\n",
       "    }\n",
       "\n",
       "    .dataframe thead th {\n",
       "        text-align: right;\n",
       "    }\n",
       "</style>\n",
       "<table border=\"1\" class=\"dataframe\">\n",
       "  <thead>\n",
       "    <tr style=\"text-align: right;\">\n",
       "      <th></th>\n",
       "      <th>mean_test_score</th>\n",
       "      <th>std_test_score</th>\n",
       "      <th>rank_test_score</th>\n",
       "      <th>param_n_d</th>\n",
       "      <th>param_n_a</th>\n",
       "      <th>param_n_steps</th>\n",
       "      <th>param_gamma</th>\n",
       "      <th>param_lambda_sparse</th>\n",
       "    </tr>\n",
       "  </thead>\n",
       "  <tbody>\n",
       "    <tr>\n",
       "      <th>0</th>\n",
       "      <td>0.534891</td>\n",
       "      <td>0.013845</td>\n",
       "      <td>14</td>\n",
       "      <td>8</td>\n",
       "      <td>8</td>\n",
       "      <td>3</td>\n",
       "      <td>1.0</td>\n",
       "      <td>0.0001</td>\n",
       "    </tr>\n",
       "    <tr>\n",
       "      <th>1</th>\n",
       "      <td>0.523872</td>\n",
       "      <td>0.031847</td>\n",
       "      <td>20</td>\n",
       "      <td>8</td>\n",
       "      <td>8</td>\n",
       "      <td>5</td>\n",
       "      <td>1.0</td>\n",
       "      <td>0.0001</td>\n",
       "    </tr>\n",
       "    <tr>\n",
       "      <th>2</th>\n",
       "      <td>0.554723</td>\n",
       "      <td>0.034651</td>\n",
       "      <td>10</td>\n",
       "      <td>16</td>\n",
       "      <td>8</td>\n",
       "      <td>3</td>\n",
       "      <td>1.0</td>\n",
       "      <td>0.0001</td>\n",
       "    </tr>\n",
       "    <tr>\n",
       "      <th>3</th>\n",
       "      <td>0.514764</td>\n",
       "      <td>0.062844</td>\n",
       "      <td>22</td>\n",
       "      <td>16</td>\n",
       "      <td>8</td>\n",
       "      <td>5</td>\n",
       "      <td>1.0</td>\n",
       "      <td>0.0001</td>\n",
       "    </tr>\n",
       "    <tr>\n",
       "      <th>4</th>\n",
       "      <td>0.603056</td>\n",
       "      <td>0.036158</td>\n",
       "      <td>1</td>\n",
       "      <td>8</td>\n",
       "      <td>16</td>\n",
       "      <td>3</td>\n",
       "      <td>1.0</td>\n",
       "      <td>0.0001</td>\n",
       "    </tr>\n",
       "    <tr>\n",
       "      <th>5</th>\n",
       "      <td>0.519318</td>\n",
       "      <td>0.040619</td>\n",
       "      <td>21</td>\n",
       "      <td>8</td>\n",
       "      <td>16</td>\n",
       "      <td>5</td>\n",
       "      <td>1.0</td>\n",
       "      <td>0.0001</td>\n",
       "    </tr>\n",
       "    <tr>\n",
       "      <th>6</th>\n",
       "      <td>0.563097</td>\n",
       "      <td>0.040228</td>\n",
       "      <td>5</td>\n",
       "      <td>16</td>\n",
       "      <td>16</td>\n",
       "      <td>3</td>\n",
       "      <td>1.0</td>\n",
       "      <td>0.0001</td>\n",
       "    </tr>\n",
       "    <tr>\n",
       "      <th>7</th>\n",
       "      <td>0.533862</td>\n",
       "      <td>0.023327</td>\n",
       "      <td>17</td>\n",
       "      <td>16</td>\n",
       "      <td>16</td>\n",
       "      <td>5</td>\n",
       "      <td>1.0</td>\n",
       "      <td>0.0001</td>\n",
       "    </tr>\n",
       "    <tr>\n",
       "      <th>8</th>\n",
       "      <td>0.564566</td>\n",
       "      <td>0.003298</td>\n",
       "      <td>4</td>\n",
       "      <td>8</td>\n",
       "      <td>8</td>\n",
       "      <td>3</td>\n",
       "      <td>1.0</td>\n",
       "      <td>0.0010</td>\n",
       "    </tr>\n",
       "    <tr>\n",
       "      <th>9</th>\n",
       "      <td>0.534450</td>\n",
       "      <td>0.007342</td>\n",
       "      <td>15</td>\n",
       "      <td>8</td>\n",
       "      <td>8</td>\n",
       "      <td>5</td>\n",
       "      <td>1.0</td>\n",
       "      <td>0.0010</td>\n",
       "    </tr>\n",
       "    <tr>\n",
       "      <th>10</th>\n",
       "      <td>0.555311</td>\n",
       "      <td>0.006366</td>\n",
       "      <td>9</td>\n",
       "      <td>16</td>\n",
       "      <td>8</td>\n",
       "      <td>3</td>\n",
       "      <td>1.0</td>\n",
       "      <td>0.0010</td>\n",
       "    </tr>\n",
       "    <tr>\n",
       "      <th>11</th>\n",
       "      <td>0.526370</td>\n",
       "      <td>0.037039</td>\n",
       "      <td>19</td>\n",
       "      <td>16</td>\n",
       "      <td>8</td>\n",
       "      <td>5</td>\n",
       "      <td>1.0</td>\n",
       "      <td>0.0010</td>\n",
       "    </tr>\n",
       "    <tr>\n",
       "      <th>12</th>\n",
       "      <td>0.557074</td>\n",
       "      <td>0.031103</td>\n",
       "      <td>8</td>\n",
       "      <td>8</td>\n",
       "      <td>16</td>\n",
       "      <td>3</td>\n",
       "      <td>1.0</td>\n",
       "      <td>0.0010</td>\n",
       "    </tr>\n",
       "    <tr>\n",
       "      <th>13</th>\n",
       "      <td>0.510063</td>\n",
       "      <td>0.042836</td>\n",
       "      <td>23</td>\n",
       "      <td>8</td>\n",
       "      <td>16</td>\n",
       "      <td>5</td>\n",
       "      <td>1.0</td>\n",
       "      <td>0.0010</td>\n",
       "    </tr>\n",
       "    <tr>\n",
       "      <th>14</th>\n",
       "      <td>0.560306</td>\n",
       "      <td>0.018827</td>\n",
       "      <td>7</td>\n",
       "      <td>16</td>\n",
       "      <td>16</td>\n",
       "      <td>3</td>\n",
       "      <td>1.0</td>\n",
       "      <td>0.0010</td>\n",
       "    </tr>\n",
       "    <tr>\n",
       "      <th>15</th>\n",
       "      <td>0.529308</td>\n",
       "      <td>0.017186</td>\n",
       "      <td>18</td>\n",
       "      <td>16</td>\n",
       "      <td>16</td>\n",
       "      <td>5</td>\n",
       "      <td>1.0</td>\n",
       "      <td>0.0010</td>\n",
       "    </tr>\n",
       "    <tr>\n",
       "      <th>16</th>\n",
       "      <td>0.541942</td>\n",
       "      <td>0.028567</td>\n",
       "      <td>12</td>\n",
       "      <td>8</td>\n",
       "      <td>8</td>\n",
       "      <td>3</td>\n",
       "      <td>1.5</td>\n",
       "      <td>0.0001</td>\n",
       "    </tr>\n",
       "    <tr>\n",
       "      <th>17</th>\n",
       "      <td>0.435728</td>\n",
       "      <td>0.051643</td>\n",
       "      <td>31</td>\n",
       "      <td>8</td>\n",
       "      <td>8</td>\n",
       "      <td>5</td>\n",
       "      <td>1.5</td>\n",
       "      <td>0.0001</td>\n",
       "    </tr>\n",
       "    <tr>\n",
       "      <th>18</th>\n",
       "      <td>0.542677</td>\n",
       "      <td>0.016554</td>\n",
       "      <td>11</td>\n",
       "      <td>16</td>\n",
       "      <td>8</td>\n",
       "      <td>3</td>\n",
       "      <td>1.5</td>\n",
       "      <td>0.0001</td>\n",
       "    </tr>\n",
       "    <tr>\n",
       "      <th>19</th>\n",
       "      <td>0.491553</td>\n",
       "      <td>0.026600</td>\n",
       "      <td>24</td>\n",
       "      <td>16</td>\n",
       "      <td>8</td>\n",
       "      <td>5</td>\n",
       "      <td>1.5</td>\n",
       "      <td>0.0001</td>\n",
       "    </tr>\n",
       "    <tr>\n",
       "      <th>20</th>\n",
       "      <td>0.541061</td>\n",
       "      <td>0.030299</td>\n",
       "      <td>13</td>\n",
       "      <td>8</td>\n",
       "      <td>16</td>\n",
       "      <td>3</td>\n",
       "      <td>1.5</td>\n",
       "      <td>0.0001</td>\n",
       "    </tr>\n",
       "    <tr>\n",
       "      <th>21</th>\n",
       "      <td>0.459233</td>\n",
       "      <td>0.052778</td>\n",
       "      <td>29</td>\n",
       "      <td>8</td>\n",
       "      <td>16</td>\n",
       "      <td>5</td>\n",
       "      <td>1.5</td>\n",
       "      <td>0.0001</td>\n",
       "    </tr>\n",
       "    <tr>\n",
       "      <th>22</th>\n",
       "      <td>0.534303</td>\n",
       "      <td>0.034222</td>\n",
       "      <td>16</td>\n",
       "      <td>16</td>\n",
       "      <td>16</td>\n",
       "      <td>3</td>\n",
       "      <td>1.5</td>\n",
       "      <td>0.0001</td>\n",
       "    </tr>\n",
       "    <tr>\n",
       "      <th>23</th>\n",
       "      <td>0.462318</td>\n",
       "      <td>0.057403</td>\n",
       "      <td>28</td>\n",
       "      <td>16</td>\n",
       "      <td>16</td>\n",
       "      <td>5</td>\n",
       "      <td>1.5</td>\n",
       "      <td>0.0001</td>\n",
       "    </tr>\n",
       "    <tr>\n",
       "      <th>24</th>\n",
       "      <td>0.484207</td>\n",
       "      <td>0.067210</td>\n",
       "      <td>25</td>\n",
       "      <td>8</td>\n",
       "      <td>8</td>\n",
       "      <td>3</td>\n",
       "      <td>1.5</td>\n",
       "      <td>0.0010</td>\n",
       "    </tr>\n",
       "    <tr>\n",
       "      <th>25</th>\n",
       "      <td>0.471573</td>\n",
       "      <td>0.067452</td>\n",
       "      <td>26</td>\n",
       "      <td>8</td>\n",
       "      <td>8</td>\n",
       "      <td>5</td>\n",
       "      <td>1.5</td>\n",
       "      <td>0.0010</td>\n",
       "    </tr>\n",
       "    <tr>\n",
       "      <th>26</th>\n",
       "      <td>0.561922</td>\n",
       "      <td>0.034838</td>\n",
       "      <td>6</td>\n",
       "      <td>16</td>\n",
       "      <td>8</td>\n",
       "      <td>3</td>\n",
       "      <td>1.5</td>\n",
       "      <td>0.0010</td>\n",
       "    </tr>\n",
       "    <tr>\n",
       "      <th>27</th>\n",
       "      <td>0.456736</td>\n",
       "      <td>0.052702</td>\n",
       "      <td>30</td>\n",
       "      <td>16</td>\n",
       "      <td>8</td>\n",
       "      <td>5</td>\n",
       "      <td>1.5</td>\n",
       "      <td>0.0010</td>\n",
       "    </tr>\n",
       "    <tr>\n",
       "      <th>28</th>\n",
       "      <td>0.583811</td>\n",
       "      <td>0.030086</td>\n",
       "      <td>2</td>\n",
       "      <td>8</td>\n",
       "      <td>16</td>\n",
       "      <td>3</td>\n",
       "      <td>1.5</td>\n",
       "      <td>0.0010</td>\n",
       "    </tr>\n",
       "    <tr>\n",
       "      <th>29</th>\n",
       "      <td>0.428383</td>\n",
       "      <td>0.081650</td>\n",
       "      <td>32</td>\n",
       "      <td>8</td>\n",
       "      <td>16</td>\n",
       "      <td>5</td>\n",
       "      <td>1.5</td>\n",
       "      <td>0.0010</td>\n",
       "    </tr>\n",
       "    <tr>\n",
       "      <th>30</th>\n",
       "      <td>0.573380</td>\n",
       "      <td>0.026451</td>\n",
       "      <td>3</td>\n",
       "      <td>16</td>\n",
       "      <td>16</td>\n",
       "      <td>3</td>\n",
       "      <td>1.5</td>\n",
       "      <td>0.0010</td>\n",
       "    </tr>\n",
       "    <tr>\n",
       "      <th>31</th>\n",
       "      <td>0.469957</td>\n",
       "      <td>0.041566</td>\n",
       "      <td>27</td>\n",
       "      <td>16</td>\n",
       "      <td>16</td>\n",
       "      <td>5</td>\n",
       "      <td>1.5</td>\n",
       "      <td>0.0010</td>\n",
       "    </tr>\n",
       "  </tbody>\n",
       "</table>\n",
       "</div>"
      ]
     },
     "execution_count": 33,
     "metadata": {},
     "output_type": "execute_result"
    }
   ],
   "execution_count": 33
  },
  {
   "metadata": {
    "ExecuteTime": {
     "end_time": "2025-05-20T11:14:01.341787Z",
     "start_time": "2025-05-20T11:14:01.312515Z"
    }
   },
   "cell_type": "code",
   "source": [
    "from sklearn.metrics import accuracy_score, classification_report\n",
    "\n",
    "# Use the best model\n",
    "best_model = grid.best_estimator_\n",
    "\n",
    "# Predict on original test set\n",
    "y_pred = best_model.predict(X_test_scaled)\n",
    "\n",
    "# Evaluate\n",
    "print(\"✅ Test Accuracy:\", accuracy_score(y_test, y_pred))\n",
    "print(\"📊 Classification Report:\\n\", classification_report(y_test, y_pred))\n"
   ],
   "id": "4f1d87e8daaf8fb6",
   "outputs": [
    {
     "name": "stdout",
     "output_type": "stream",
     "text": [
      "✅ Test Accuracy: 0.5623451692815855\n",
      "📊 Classification Report:\n",
      "               precision    recall  f1-score   support\n",
      "\n",
      "           5       0.66      0.62      0.64       428\n",
      "           6       0.59      0.47      0.52       567\n",
      "           7       0.42      0.69      0.52       216\n",
      "\n",
      "    accuracy                           0.56      1211\n",
      "   macro avg       0.56      0.59      0.56      1211\n",
      "weighted avg       0.58      0.56      0.56      1211\n",
      "\n"
     ]
    }
   ],
   "execution_count": 34
  },
  {
   "metadata": {
    "jupyter": {
     "is_executing": true
    },
    "ExecuteTime": {
     "start_time": "2025-05-20T11:14:01.409778Z"
    }
   },
   "cell_type": "code",
   "source": [
    "from sklearn.model_selection import GridSearchCV\n",
    "\n",
    "param_grid = {\n",
    "    'n_d': [8, 16],\n",
    "    'n_a': [8, 16],\n",
    "    'n_steps': [3, 5],\n",
    "    'gamma': [1.0, 1.5],\n",
    "    'lambda_sparse': [1e-4, 1e-3],\n",
    "}\n",
    "\n",
    "grid = GridSearchCV(\n",
    "    estimator=TabNetSklearnWrapper(),\n",
    "    param_grid=param_grid,\n",
    "    scoring='accuracy',\n",
    "    cv=3,\n",
    "    verbose=2,\n",
    "    n_jobs=1  # TabNet uses GPU/CPU internally, use 1 to avoid overload\n",
    ")\n",
    "\n",
    "grid.fit(X_train, y_train)\n"
   ],
   "id": "f36fbd1550eff856",
   "outputs": [
    {
     "name": "stdout",
     "output_type": "stream",
     "text": [
      "Fitting 3 folds for each of 32 candidates, totalling 96 fits\n"
     ]
    }
   ],
   "execution_count": null
  },
  {
   "metadata": {},
   "cell_type": "code",
   "outputs": [],
   "execution_count": null,
   "source": "",
   "id": "7b8fbbbd523e7e89"
  }
 ],
 "metadata": {
  "kernelspec": {
   "display_name": "Python 3",
   "language": "python",
   "name": "python3"
  },
  "language_info": {
   "codemirror_mode": {
    "name": "ipython",
    "version": 2
   },
   "file_extension": ".py",
   "mimetype": "text/x-python",
   "name": "python",
   "nbconvert_exporter": "python",
   "pygments_lexer": "ipython2",
   "version": "2.7.6"
  }
 },
 "nbformat": 4,
 "nbformat_minor": 5
}
